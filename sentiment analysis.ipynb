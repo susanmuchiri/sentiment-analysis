{
 "cells": [
  {
   "cell_type": "markdown",
   "metadata": {},
   "source": [
    "                                  SENTIMENT ANALYSIS PROJECT\n",
    "                                  NAME:SUSAN WANJIRU \n",
    "                                  PHASE 4\n"
   ]
  },
  {
   "cell_type": "markdown",
   "metadata": {},
   "source": [
    "BUSINESS UNDERSTANDING"
   ]
  },
  {
   "cell_type": "markdown",
   "metadata": {},
   "source": [
    "We live in a world that most people use social platforms in communication and expressing how they feel about a certain topic.\n",
    "\n",
    "Sentiment analysis, a natural language processing (NLP) technique, is a powerful tool that helps businesses understand the overall mood behind customer feedback, whether positive, negative, or neutral.\n",
    "\n",
    "By analyzing tweets, companies can monitor their brand reputation, gauge customer satisfaction, and even identify areas of improvement for their products."
   ]
  },
  {
   "cell_type": "markdown",
   "metadata": {},
   "source": [
    "PROBLEM STATEMENT\n",
    "\n",
    "Best buy, a leading reseller of iPhone and Google products, faces the challenge of stocking its inventory to match customer preferences. The absence of a systematic approach to analyze user sentiments on platforms like Twitter hinders data-driven stocking decisions. This project aims to leverage Twitter sentiment analysis to understand customer opinions better. By gaining insights into user sentiments, Best Buy seeks to improve stocking decisions, ensuring availability of products aligned with customer preferences and enhancing overall satisfaction and loyalty"
   ]
  },
  {
   "cell_type": "markdown",
   "metadata": {},
   "source": [
    "**MAIN OBJECTIVES**\n",
    "\n",
    "1. Improve resource allocation\n",
    "By using the twitter analysis ,Google and Apple will be able to know which resources are preffered by customers according to how most of them react to the different products.\n",
    "\n",
    "2.Enhance customer satisfaction\n",
    "The sentiments from various customers will be able to predict to the companies on what products are most liked by the customers and how they can improve them inorder to make them like the products better.\n",
    "\n",
    "3.Increase companys profitability.\n",
    "Ultimately,when the customers are satisfied with the products provided by the companies ,their sentiments on twitter will sell the products to other custoers who never knew about their products ,therefore this wil increase the sales of the companies therfore increasing the profits.\n"
   ]
  },
  {
   "cell_type": "markdown",
   "metadata": {},
   "source": [
    "DATA COLLECTION\n",
    "\n",
    "The dataset used for this analysis was sourced from the CrowdFlower dataset available on Data.World. Here is the link to the data. https://data.world/crowdflower/brands-and-product-emotions\n"
   ]
  },
  {
   "cell_type": "markdown",
   "metadata": {},
   "source": [
    "DATA LOADING AND IMPORTING RELEVANT LIBRARIES."
   ]
  },
  {
   "cell_type": "code",
   "execution_count": null,
   "metadata": {},
   "outputs": [],
   "source": [
    "\n",
    "import pandas as pd\n",
    "import numpy as np\n",
    "import matplotlib.pyplot as plt\n",
    "import seaborn as sns\n",
    "plt.style.use('ggplot')\n",
    "%matplotlib inline\n",
    "\n",
    "import re\n",
    "import nltk\n",
    "import pandas as pd\n",
    "\n",
    "\n",
    "#scipy\n",
    "from scipy.sparse import csr_matrix\n",
    "\n",
    "#sklearn\n",
    "from sklearn.feature_extraction.text import CountVectorizer\n",
    "from sklearn.linear_model import LogisticRegression\n",
    "from sklearn.feature_extraction.text import TfidfVectorizer\n",
    "from sklearn.impute import SimpleImputer\n",
    "from sklearn.model_selection import train_test_split, cross_validate\n",
    "from sklearn.metrics import classification_report, f1_score, accuracy_score, precision_score, recall_score\n",
    "from sklearn.pipeline import Pipeline\n",
    "from sklearn.model_selection import GridSearchCV\n",
    "from sklearn.compose import ColumnTransformer\n",
    "from sklearn.naive_bayes import MultinomialNB\n",
    "from sklearn.tree import DecisionTreeClassifier\n",
    "from sklearn.ensemble import RandomForestClassifier\n",
    "from sklearn.preprocessing import OrdinalEncoder, LabelEncoder, OneHotEncoder, StandardScaler\n",
    "from sklearn.preprocessing import StandardScaler, MinMaxScaler\n",
    "from sklearn.svm import SVC\n",
    "\n",
    "#xgboost\n",
    "import xgboost as xgb\n",
    "\n",
    "#nlkt\n",
    "from nltk import FreqDist\n",
    "from nltk.stem import PorterStemmer\n",
    "from nltk.stem import WordNetLemmatizer\n",
    "from nltk.tokenize import word_tokenize, RegexpTokenizer\n",
    "from nltk.corpus import stopwords\n",
    "\n",
    "\n",
    "import joblib\n"
   ]
  },
  {
   "cell_type": "code",
   "execution_count": 157,
   "metadata": {},
   "outputs": [
    {
     "data": {
      "application/vnd.microsoft.datawrangler.viewer.v0+json": {
       "columns": [
        {
         "name": "index",
         "rawType": "int64",
         "type": "integer"
        },
        {
         "name": "tweet_text",
         "rawType": "object",
         "type": "string"
        },
        {
         "name": "emotion_in_tweet_is_directed_at",
         "rawType": "object",
         "type": "string"
        },
        {
         "name": "is_there_an_emotion_directed_at_a_brand_or_product",
         "rawType": "object",
         "type": "string"
        }
       ],
       "conversionMethod": "pd.DataFrame",
       "ref": "18eb41ae-8f73-4500-8b81-8dbcdb9474d9",
       "rows": [
        [
         "0",
         ".@wesley83 I have a 3G iPhone. After 3 hrs tweeting at #RISE_Austin, it was dead!  I need to upgrade. Plugin stations at #SXSW.",
         "iPhone",
         "Negative emotion"
        ],
        [
         "1",
         "@jessedee Know about @fludapp ? Awesome iPad/iPhone app that you'll likely appreciate for its design. Also, they're giving free Ts at #SXSW",
         "iPad or iPhone App",
         "Positive emotion"
        ],
        [
         "2",
         "@swonderlin Can not wait for #iPad 2 also. They should sale them down at #SXSW.",
         "iPad",
         "Positive emotion"
        ],
        [
         "3",
         "@sxsw I hope this year's festival isn't as crashy as this year's iPhone app. #sxsw",
         "iPad or iPhone App",
         "Negative emotion"
        ],
        [
         "4",
         "@sxtxstate great stuff on Fri #SXSW: Marissa Mayer (Google), Tim O'Reilly (tech books/conferences) &amp; Matt Mullenweg (Wordpress)",
         "Google",
         "Positive emotion"
        ]
       ],
       "shape": {
        "columns": 3,
        "rows": 5
       }
      },
      "text/html": [
       "<div>\n",
       "<style scoped>\n",
       "    .dataframe tbody tr th:only-of-type {\n",
       "        vertical-align: middle;\n",
       "    }\n",
       "\n",
       "    .dataframe tbody tr th {\n",
       "        vertical-align: top;\n",
       "    }\n",
       "\n",
       "    .dataframe thead th {\n",
       "        text-align: right;\n",
       "    }\n",
       "</style>\n",
       "<table border=\"1\" class=\"dataframe\">\n",
       "  <thead>\n",
       "    <tr style=\"text-align: right;\">\n",
       "      <th></th>\n",
       "      <th>tweet_text</th>\n",
       "      <th>emotion_in_tweet_is_directed_at</th>\n",
       "      <th>is_there_an_emotion_directed_at_a_brand_or_product</th>\n",
       "    </tr>\n",
       "  </thead>\n",
       "  <tbody>\n",
       "    <tr>\n",
       "      <th>0</th>\n",
       "      <td>.@wesley83 I have a 3G iPhone. After 3 hrs twe...</td>\n",
       "      <td>iPhone</td>\n",
       "      <td>Negative emotion</td>\n",
       "    </tr>\n",
       "    <tr>\n",
       "      <th>1</th>\n",
       "      <td>@jessedee Know about @fludapp ? Awesome iPad/i...</td>\n",
       "      <td>iPad or iPhone App</td>\n",
       "      <td>Positive emotion</td>\n",
       "    </tr>\n",
       "    <tr>\n",
       "      <th>2</th>\n",
       "      <td>@swonderlin Can not wait for #iPad 2 also. The...</td>\n",
       "      <td>iPad</td>\n",
       "      <td>Positive emotion</td>\n",
       "    </tr>\n",
       "    <tr>\n",
       "      <th>3</th>\n",
       "      <td>@sxsw I hope this year's festival isn't as cra...</td>\n",
       "      <td>iPad or iPhone App</td>\n",
       "      <td>Negative emotion</td>\n",
       "    </tr>\n",
       "    <tr>\n",
       "      <th>4</th>\n",
       "      <td>@sxtxstate great stuff on Fri #SXSW: Marissa M...</td>\n",
       "      <td>Google</td>\n",
       "      <td>Positive emotion</td>\n",
       "    </tr>\n",
       "  </tbody>\n",
       "</table>\n",
       "</div>"
      ],
      "text/plain": [
       "                                          tweet_text  \\\n",
       "0  .@wesley83 I have a 3G iPhone. After 3 hrs twe...   \n",
       "1  @jessedee Know about @fludapp ? Awesome iPad/i...   \n",
       "2  @swonderlin Can not wait for #iPad 2 also. The...   \n",
       "3  @sxsw I hope this year's festival isn't as cra...   \n",
       "4  @sxtxstate great stuff on Fri #SXSW: Marissa M...   \n",
       "\n",
       "  emotion_in_tweet_is_directed_at  \\\n",
       "0                          iPhone   \n",
       "1              iPad or iPhone App   \n",
       "2                            iPad   \n",
       "3              iPad or iPhone App   \n",
       "4                          Google   \n",
       "\n",
       "  is_there_an_emotion_directed_at_a_brand_or_product  \n",
       "0                                   Negative emotion  \n",
       "1                                   Positive emotion  \n",
       "2                                   Positive emotion  \n",
       "3                                   Negative emotion  \n",
       "4                                   Positive emotion  "
      ]
     },
     "execution_count": 157,
     "metadata": {},
     "output_type": "execute_result"
    }
   ],
   "source": [
    "df = pd.read_csv(r\"C:\\Users\\hp\\Desktop\\sentiment analysis\\Sentiments_analysis.csv\", encoding='unicode_escape')\n",
    "df.head()\n"
   ]
  },
  {
   "cell_type": "markdown",
   "metadata": {},
   "source": [
    "DATA DESCRIPTION"
   ]
  },
  {
   "cell_type": "code",
   "execution_count": 158,
   "metadata": {},
   "outputs": [
    {
     "name": "stdout",
     "output_type": "stream",
     "text": [
      "<class 'pandas.core.frame.DataFrame'>\n",
      "RangeIndex: 9093 entries, 0 to 9092\n",
      "Data columns (total 3 columns):\n",
      " #   Column                                              Non-Null Count  Dtype \n",
      "---  ------                                              --------------  ----- \n",
      " 0   tweet_text                                          9092 non-null   object\n",
      " 1   emotion_in_tweet_is_directed_at                     3291 non-null   object\n",
      " 2   is_there_an_emotion_directed_at_a_brand_or_product  9093 non-null   object\n",
      "dtypes: object(3)\n",
      "memory usage: 213.2+ KB\n"
     ]
    }
   ],
   "source": [
    "#GETTING GENERAL INFORMATION ON NON-NULL COUNTS AND DATA TYPES FOR PER COLUMN\n",
    "df.info()"
   ]
  },
  {
   "cell_type": "markdown",
   "metadata": {},
   "source": [
    "The dataset consists of 9,093 rows and contains 3 columns:\n",
    "\n",
    "**1.Column 0 (tweet_text)**\n",
    "\n",
    "It has 9092 Values and 1 missing value.\n",
    "\n",
    "**2.Column 1 (emotion_in_tweet_is_directed_at)**\n",
    "\n",
    "It has 3291 Values and 5802 missing value.\n",
    "\n",
    "**3.Column 2 (is_there_an_emotion_directed_at_a_brand_or_product)**\n",
    "\n",
    "It has 9093 Values\n",
    "\n",
    "The datatype  in all the columns is object(typically strings)"
   ]
  },
  {
   "cell_type": "markdown",
   "metadata": {},
   "source": [
    "DATA CLEANING"
   ]
  },
  {
   "cell_type": "code",
   "execution_count": 159,
   "metadata": {},
   "outputs": [
    {
     "name": "stdout",
     "output_type": "stream",
     "text": [
      "<class 'pandas.core.frame.DataFrame'>\n",
      "RangeIndex: 9093 entries, 0 to 9092\n",
      "Data columns (total 3 columns):\n",
      " #   Column                                              Non-Null Count  Dtype \n",
      "---  ------                                              --------------  ----- \n",
      " 0   tweet_text                                          9092 non-null   object\n",
      " 1   emotion_in_tweet_is_directed_at                     3291 non-null   object\n",
      " 2   is_there_an_emotion_directed_at_a_brand_or_product  9093 non-null   object\n",
      "dtypes: object(3)\n",
      "memory usage: 213.2+ KB\n",
      "None\n",
      "--------------------\n",
      "Total duplicated rows\n",
      "22\n",
      "--------------------\n",
      "Total null values\n",
      "tweet_text                                               1\n",
      "emotion_in_tweet_is_directed_at                       5802\n",
      "is_there_an_emotion_directed_at_a_brand_or_product       0\n",
      "dtype: int64\n"
     ]
    }
   ],
   "source": [
    "#looking at data, duplicates and null valuesprint\n",
    "def data_summary(df):\n",
    "    # Print the DataFrame info\n",
    "    print(df.info())\n",
    "    print((\"-\" * 20))\n",
    "    \n",
    "    # Print the total number of duplicated rows\n",
    "    print('Total duplicated rows')\n",
    "    print(df.duplicated().sum())\n",
    "    print((\"-\" * 20))\n",
    "    # Print the total number of null values in each column\n",
    "    print('Total null values')\n",
    "    \n",
    "    print(df.isna().sum())    \n",
    "data_summary(df)\n"
   ]
  },
  {
   "cell_type": "markdown",
   "metadata": {},
   "source": [
    "\n",
    "Data Analysis Summary\n",
    "\n",
    "The dataset contains **9,093 rows and 3 columns**, with **tweet_text missing 1 value and emotion_in_tweet_is_directed_at missing 5,802 values**. There are **22 duplicated rows**, and **the column is_there_an_emotion_directed_at_a_brand_or_product has no missing values.**\n"
   ]
  },
  {
   "cell_type": "markdown",
   "metadata": {},
   "source": [
    "SENTIMENT VISUALIZATION"
   ]
  },
  {
   "cell_type": "code",
   "execution_count": 160,
   "metadata": {},
   "outputs": [
    {
     "data": {
      "text/plain": [
       "is_there_an_emotion_directed_at_a_brand_or_product\n",
       "No emotion toward brand or product    5389\n",
       "Positive emotion                      2978\n",
       "Negative emotion                       570\n",
       "I can't tell                           156\n",
       "Name: count, dtype: int64"
      ]
     },
     "execution_count": 160,
     "metadata": {},
     "output_type": "execute_result"
    }
   ],
   "source": [
    "#Sentiment Breakdown and Visualization\n",
    "df['is_there_an_emotion_directed_at_a_brand_or_product'].value_counts() "
   ]
  },
  {
   "cell_type": "code",
   "execution_count": 161,
   "metadata": {},
   "outputs": [
    {
     "data": {
      "text/plain": [
       "<Axes: xlabel='is_there_an_emotion_directed_at_a_brand_or_product', ylabel='count'>"
      ]
     },
     "execution_count": 161,
     "metadata": {},
     "output_type": "execute_result"
    },
    {
     "data": {
      "image/png": "[encoded data removed]",
      "text/plain": [
       "<Figure size 1200x600 with 1 Axes>"
      ]
     },
     "metadata": {},
     "output_type": "display_data"
    }
   ],
   "source": [
    "# Plot the sentiment breakdown for 'is_there_an_emotion_directed_at_a_brand_or_product'\n",
    "fig =  plt.figure(figsize=(12,6))\n",
    "sns.countplot(x='is_there_an_emotion_directed_at_a_brand_or_product', data=df)"
   ]
  },
  {
   "cell_type": "code",
   "execution_count": 162,
   "metadata": {},
   "outputs": [
    {
     "data": {
      "image/png": "[encoded data removed]",
      "text/plain": [
       "<Figure size 1200x600 with 1 Axes>"
      ]
     },
     "metadata": {},
     "output_type": "display_data"
    }
   ],
   "source": [
    "# Plot the sentiment breakdown for 'emotion_in_tweet_is_directed_at'\n",
    "\n",
    "fig =  plt.figure(figsize=(12,6))\n",
    "sns.countplot(x='emotion_in_tweet_is_directed_at', data=df)\n",
    "plt.xticks(rotation=45);"
   ]
  },
  {
   "cell_type": "markdown",
   "metadata": {},
   "source": [
    "\n",
    "Summary of Sentiment Breakdown:\n",
    "\n",
    "The bar chart reveals that **iPad** is the most frequently mentioned product in the tweets, followed by other **Apple products** (iPad, iPhone, and Apple) and **Google products**. **Android-related products** receive fewer mentions, highlighting the dominance of Apple products in user-directed sentiments.\n"
   ]
  },
  {
   "cell_type": "markdown",
   "metadata": {},
   "source": [
    "RENAME THE LONGATED TITLE WORDS"
   ]
  },
  {
   "cell_type": "code",
   "execution_count": 163,
   "metadata": {},
   "outputs": [
    {
     "name": "stdout",
     "output_type": "stream",
     "text": [
      "Index(['tweet_text', 'product_brand', 'sentiment'], dtype='object')\n"
     ]
    }
   ],
   "source": [
    "# Renaming the columns\n",
    "data_new= df.rename(columns={\n",
    "    'emotion_in_tweet_is_directed_at':'product_brand',\n",
    "    'is_there_an_emotion_directed_at_a_brand_or_product': 'sentiment'\n",
    "})\n",
    "\n",
    "# Display the updated columns\n",
    "print(data_new.columns)"
   ]
  },
  {
   "cell_type": "code",
   "execution_count": 164,
   "metadata": {},
   "outputs": [
    {
     "data": {
      "application/vnd.microsoft.datawrangler.viewer.v0+json": {
       "columns": [
        {
         "name": "index",
         "rawType": "int64",
         "type": "integer"
        },
        {
         "name": "tweet_text",
         "rawType": "object",
         "type": "string"
        },
        {
         "name": "product_brand",
         "rawType": "object",
         "type": "string"
        },
        {
         "name": "sentiment",
         "rawType": "object",
         "type": "string"
        }
       ],
       "conversionMethod": "pd.DataFrame",
       "ref": "781d99d7-4920-4184-8170-ace2b7f77547",
       "rows": [
        [
         "0",
         ".@wesley83 I have a 3G iPhone. After 3 hrs tweeting at #RISE_Austin, it was dead!  I need to upgrade. Plugin stations at #SXSW.",
         "iPhone",
         "Negative emotion"
        ],
        [
         "1",
         "@jessedee Know about @fludapp ? Awesome iPad/iPhone app that you'll likely appreciate for its design. Also, they're giving free Ts at #SXSW",
         "iPad or iPhone App",
         "Positive emotion"
        ],
        [
         "2",
         "@swonderlin Can not wait for #iPad 2 also. They should sale them down at #SXSW.",
         "iPad",
         "Positive emotion"
        ],
        [
         "3",
         "@sxsw I hope this year's festival isn't as crashy as this year's iPhone app. #sxsw",
         "iPad or iPhone App",
         "Negative emotion"
        ],
        [
         "4",
         "@sxtxstate great stuff on Fri #SXSW: Marissa Mayer (Google), Tim O'Reilly (tech books/conferences) &amp; Matt Mullenweg (Wordpress)",
         "Google",
         "Positive emotion"
        ]
       ],
       "shape": {
        "columns": 3,
        "rows": 5
       }
      },
      "text/html": [
       "<div>\n",
       "<style scoped>\n",
       "    .dataframe tbody tr th:only-of-type {\n",
       "        vertical-align: middle;\n",
       "    }\n",
       "\n",
       "    .dataframe tbody tr th {\n",
       "        vertical-align: top;\n",
       "    }\n",
       "\n",
       "    .dataframe thead th {\n",
       "        text-align: right;\n",
       "    }\n",
       "</style>\n",
       "<table border=\"1\" class=\"dataframe\">\n",
       "  <thead>\n",
       "    <tr style=\"text-align: right;\">\n",
       "      <th></th>\n",
       "      <th>tweet_text</th>\n",
       "      <th>product_brand</th>\n",
       "      <th>sentiment</th>\n",
       "    </tr>\n",
       "  </thead>\n",
       "  <tbody>\n",
       "    <tr>\n",
       "      <th>0</th>\n",
       "      <td>.@wesley83 I have a 3G iPhone. After 3 hrs twe...</td>\n",
       "      <td>iPhone</td>\n",
       "      <td>Negative emotion</td>\n",
       "    </tr>\n",
       "    <tr>\n",
       "      <th>1</th>\n",
       "      <td>@jessedee Know about @fludapp ? Awesome iPad/i...</td>\n",
       "      <td>iPad or iPhone App</td>\n",
       "      <td>Positive emotion</td>\n",
       "    </tr>\n",
       "    <tr>\n",
       "      <th>2</th>\n",
       "      <td>@swonderlin Can not wait for #iPad 2 also. The...</td>\n",
       "      <td>iPad</td>\n",
       "      <td>Positive emotion</td>\n",
       "    </tr>\n",
       "    <tr>\n",
       "      <th>3</th>\n",
       "      <td>@sxsw I hope this year's festival isn't as cra...</td>\n",
       "      <td>iPad or iPhone App</td>\n",
       "      <td>Negative emotion</td>\n",
       "    </tr>\n",
       "    <tr>\n",
       "      <th>4</th>\n",
       "      <td>@sxtxstate great stuff on Fri #SXSW: Marissa M...</td>\n",
       "      <td>Google</td>\n",
       "      <td>Positive emotion</td>\n",
       "    </tr>\n",
       "  </tbody>\n",
       "</table>\n",
       "</div>"
      ],
      "text/plain": [
       "                                          tweet_text       product_brand  \\\n",
       "0  .@wesley83 I have a 3G iPhone. After 3 hrs twe...              iPhone   \n",
       "1  @jessedee Know about @fludapp ? Awesome iPad/i...  iPad or iPhone App   \n",
       "2  @swonderlin Can not wait for #iPad 2 also. The...                iPad   \n",
       "3  @sxsw I hope this year's festival isn't as cra...  iPad or iPhone App   \n",
       "4  @sxtxstate great stuff on Fri #SXSW: Marissa M...              Google   \n",
       "\n",
       "          sentiment  \n",
       "0  Negative emotion  \n",
       "1  Positive emotion  \n",
       "2  Positive emotion  \n",
       "3  Negative emotion  \n",
       "4  Positive emotion  "
      ]
     },
     "execution_count": 164,
     "metadata": {},
     "output_type": "execute_result"
    }
   ],
   "source": [
    "# Displaying the first few rows of the DataFrame\n",
    "data_new.head()"
   ]
  },
  {
   "cell_type": "markdown",
   "metadata": {},
   "source": [
    "FILL MISSING VALUES"
   ]
  },
  {
   "cell_type": "code",
   "execution_count": 195,
   "metadata": {},
   "outputs": [
    {
     "data": {
      "text/plain": [
       "tweet_text       0\n",
       "product_brand    0\n",
       "sentiment        0\n",
       "dtype: int64"
      ]
     },
     "execution_count": 195,
     "metadata": {},
     "output_type": "execute_result"
    }
   ],
   "source": [
    "# Using SimpleImputer to fill missing values with a constant strategy\n",
    "\n",
    "imputer_mode = SimpleImputer(strategy='constant')\n",
    "data = pd.DataFrame(imputer_mode.fit_transform(data_new), columns=data_new.columns)\n",
    "data.isna().sum()"
   ]
  },
  {
   "cell_type": "markdown",
   "metadata": {},
   "source": [
    "Identify duplicates and drop them"
   ]
  },
  {
   "cell_type": "code",
   "execution_count": 196,
   "metadata": {},
   "outputs": [
    {
     "data": {
      "application/vnd.microsoft.datawrangler.viewer.v0+json": {
       "columns": [
        {
         "name": "index",
         "rawType": "int64",
         "type": "integer"
        },
        {
         "name": "tweet_text",
         "rawType": "object",
         "type": "string"
        },
        {
         "name": "product_brand",
         "rawType": "object",
         "type": "string"
        },
        {
         "name": "sentiment",
         "rawType": "object",
         "type": "string"
        }
       ],
       "conversionMethod": "pd.DataFrame",
       "ref": "2fed62a1-623e-4462-bdac-68f8126d0dec",
       "rows": [
        [
         "468",
         "Before It Even Begins, Apple Wins #SXSW {link}",
         "Apple",
         "Positive emotion"
        ],
        [
         "776",
         "Google to Launch Major New Social Network Called Circles, Possibly Today {link} #sxsw",
         "missing_value",
         "No emotion toward brand or product"
        ],
        [
         "2232",
         "Marissa Mayer: Google Will Connect the Digital &amp; Physical Worlds Through Mobile - {link} #sxsw",
         "missing_value",
         "No emotion toward brand or product"
        ],
        [
         "2559",
         "Counting down the days to #sxsw plus strong Canadian dollar means stock up on Apple gear",
         "Apple",
         "Positive emotion"
        ],
        [
         "3950",
         "Really enjoying the changes in Gowalla 3.0 for Android! Looking forward to seeing what else they &amp; Foursquare have up their sleeves at #SXSW",
         "Android App",
         "Positive emotion"
        ]
       ],
       "shape": {
        "columns": 3,
        "rows": 5
       }
      },
      "text/html": [
       "<div>\n",
       "<style scoped>\n",
       "    .dataframe tbody tr th:only-of-type {\n",
       "        vertical-align: middle;\n",
       "    }\n",
       "\n",
       "    .dataframe tbody tr th {\n",
       "        vertical-align: top;\n",
       "    }\n",
       "\n",
       "    .dataframe thead th {\n",
       "        text-align: right;\n",
       "    }\n",
       "</style>\n",
       "<table border=\"1\" class=\"dataframe\">\n",
       "  <thead>\n",
       "    <tr style=\"text-align: right;\">\n",
       "      <th></th>\n",
       "      <th>tweet_text</th>\n",
       "      <th>product_brand</th>\n",
       "      <th>sentiment</th>\n",
       "    </tr>\n",
       "  </thead>\n",
       "  <tbody>\n",
       "    <tr>\n",
       "      <th>468</th>\n",
       "      <td>Before It Even Begins, Apple Wins #SXSW {link}</td>\n",
       "      <td>Apple</td>\n",
       "      <td>Positive emotion</td>\n",
       "    </tr>\n",
       "    <tr>\n",
       "      <th>776</th>\n",
       "      <td>Google to Launch Major New Social Network Call...</td>\n",
       "      <td>missing_value</td>\n",
       "      <td>No emotion toward brand or product</td>\n",
       "    </tr>\n",
       "    <tr>\n",
       "      <th>2232</th>\n",
       "      <td>Marissa Mayer: Google Will Connect the Digital...</td>\n",
       "      <td>missing_value</td>\n",
       "      <td>No emotion toward brand or product</td>\n",
       "    </tr>\n",
       "    <tr>\n",
       "      <th>2559</th>\n",
       "      <td>Counting down the days to #sxsw plus strong Ca...</td>\n",
       "      <td>Apple</td>\n",
       "      <td>Positive emotion</td>\n",
       "    </tr>\n",
       "    <tr>\n",
       "      <th>3950</th>\n",
       "      <td>Really enjoying the changes in Gowalla 3.0 for...</td>\n",
       "      <td>Android App</td>\n",
       "      <td>Positive emotion</td>\n",
       "    </tr>\n",
       "  </tbody>\n",
       "</table>\n",
       "</div>"
      ],
      "text/plain": [
       "                                             tweet_text  product_brand  \\\n",
       "468      Before It Even Begins, Apple Wins #SXSW {link}          Apple   \n",
       "776   Google to Launch Major New Social Network Call...  missing_value   \n",
       "2232  Marissa Mayer: Google Will Connect the Digital...  missing_value   \n",
       "2559  Counting down the days to #sxsw plus strong Ca...          Apple   \n",
       "3950  Really enjoying the changes in Gowalla 3.0 for...    Android App   \n",
       "\n",
       "                               sentiment  \n",
       "468                     Positive emotion  \n",
       "776   No emotion toward brand or product  \n",
       "2232  No emotion toward brand or product  \n",
       "2559                    Positive emotion  \n",
       "3950                    Positive emotion  "
      ]
     },
     "execution_count": 196,
     "metadata": {},
     "output_type": "execute_result"
    }
   ],
   "source": [
    "\n",
    "# Identify duplicates\n",
    "duplicates = data[data.duplicated()]\n",
    "# Display the 22 duplicates, if available\n",
    "duplicates.head()"
   ]
  },
  {
   "cell_type": "code",
   "execution_count": null,
   "metadata": {},
   "outputs": [],
   "source": [
    "# handling the duplicates \n",
    "\n",
    "data.drop_duplicates(subset=None, keep=\"first\", inplace=True)\n"
   ]
  },
  {
   "cell_type": "code",
   "execution_count": null,
   "metadata": {},
   "outputs": [
    {
     "data": {
      "text/plain": [
       "(9071, 3)"
      ]
     },
     "execution_count": 198,
     "metadata": {},
     "output_type": "execute_result"
    }
   ],
   "source": [
    "data.shape"
   ]
  },
  {
   "cell_type": "code",
   "execution_count": 199,
   "metadata": {},
   "outputs": [],
   "source": [
    "# Create a working dataframe with easier column name\n",
    "df = data.copy(deep=True)\n",
    "df.dropna(subset=['tweet_text'], inplace=True)\n",
    "\n",
    "# Convert the data types to string\n",
    "df['tweet_text'] = df['tweet_text'].astype(str)\n",
    "df['brand_item'] = df['product_brand'].astype(str)\n",
    "\n",
    "# Brand name mapping\n",
    "brand = {'iPhone': 'apple',\n",
    "         'iPad or iPhone App':'apple',\n",
    "         'iPad': 'apple',\n",
    "         'Google': 'google',\n",
    "         'nan': 'UNK',\n",
    "         'Android':'google',\n",
    "         'Apple': 'apple',\n",
    "         'Android App':'google',\n",
    "         'Other Google product or service':'google',\n",
    "         'Other Apple product or service':'apple'\n",
    "        }\n",
    "\n",
    "df['product_brand'] = df['product_brand'].map(brand)\n",
    "\n",
    "# Encoding class label to brief\n",
    "label_encoder = {'Negative emotion': 'negative',\n",
    "                 'Positive emotion': 'positive',\n",
    "                 'No emotion toward brand or product': 'neutral',\n",
    "                 \"I can't tell\":'neutral'}\n",
    "\n",
    "df['sentiment'] = df['sentiment'].map(label_encoder)\n",
    "df = df[df['sentiment'] != 'confused']    # drop the rows containing 'confused' labels"
   ]
  },
  {
   "cell_type": "code",
   "execution_count": 200,
   "metadata": {},
   "outputs": [
    {
     "data": {
      "text/plain": [
       "sentiment\n",
       "neutral     0.609810\n",
       "positive    0.327505\n",
       "negative    0.062686\n",
       "Name: proportion, dtype: float64"
      ]
     },
     "execution_count": 200,
     "metadata": {},
     "output_type": "execute_result"
    }
   ],
   "source": [
    "df.sentiment.value_counts(normalize=True)"
   ]
  },
  {
   "cell_type": "code",
   "execution_count": 201,
   "metadata": {},
   "outputs": [
    {
     "data": {
      "text/plain": [
       "Text(0.5, 1.0, 'Brand Item Distribution')"
      ]
     },
     "execution_count": 201,
     "metadata": {},
     "output_type": "execute_result"
    },
    {
     "data": {
      "image/png": "[encoded data removed]",
      "text/plain": [
       "<Figure size 1200x600 with 1 Axes>"
      ]
     },
     "metadata": {},
     "output_type": "display_data"
    }
   ],
   "source": [
    "fig =  plt.figure(figsize=(12,6))\n",
    "sns.countplot(x='brand_item', data=df)\n",
    "plt.xticks(rotation=45);\n",
    "plt.title('Brand Item Distribution', fontsize=16)"
   ]
  },
  {
   "cell_type": "markdown",
   "metadata": {},
   "source": [
    "\n",
    "\n",
    "- **iPad** and **Apple** products have a noticeable presence, indicating that they are frequently mentioned in the dataset.\n",
    "- **Google** and **Android** have fewer mentions compared to Apple-related products.\n",
    "- Other product categories, such as **iPhone**, **iPad or iPhone App**, **Android App**, and **Other Google or Apple products or services**, have minimal representation.\n",
    "\n",
    "In the next visualization, I'll focus on comparing **Apple** and **Google** products after mapping product brands to the **brand_item** variable. This will help me further analyze the sentiment and mentions between these two major brands.\n",
    "\n",
    "\n"
   ]
  },
  {
   "cell_type": "code",
   "execution_count": 202,
   "metadata": {},
   "outputs": [
    {
     "data": {
      "text/plain": [
       "Text(0.5, 1.0, 'Sentiment Comparison Between Apple and Google')"
      ]
     },
     "execution_count": 202,
     "metadata": {},
     "output_type": "execute_result"
    },
    {
     "data": {
      "image/png": "[encoded data removed]",
      "text/plain": [
       "<Figure size 1200x600 with 1 Axes>"
      ]
     },
     "metadata": {},
     "output_type": "display_data"
    }
   ],
   "source": [
    "plt.figure(figsize=(12,6))\n",
    "ax = sns.countplot(data=df, x = 'sentiment', hue='product_brand')\n",
    "# Adding a title to the plot\n",
    "plt.title('Sentiment Comparison Between Apple and Google', fontsize=16)"
   ]
  },
  {
   "cell_type": "markdown",
   "metadata": {},
   "source": [
    "\n",
    "Sentiment Comparison Between Apple and Google:\n",
    "\n",
    "The bar chart compares the sentiment distribution between **Apple** and **Google** products. For **positive sentiment**, Apple has a significantly higher count compared to Google, indicating a strong positive reaction toward Apple products. **Negative sentiment** is more balanced but still higher for Apple than Google. Both brands have very low counts in the **neutral sentiment** category, with Apple showing slightly more mentions than Google. This comparison suggests that Apple products generate more engagement, particularly in positive sentiment, than Google products.\n",
    "\n"
   ]
  },
  {
   "cell_type": "markdown",
   "metadata": {},
   "source": [
    "### **2 Text Processing**\n",
    "\n",
    "\n",
    "In this step, we will clean and prepare the `tweet_text` column by performing the following actions:\n",
    "\n",
    "- **Removing URLs, Mentions, and Hashtags**: Eliminated URLs, Twitter mentions (e.g., @username), and hashtags (e.g., #topic) to reduce noise.\n",
    "- **Removing Special Characters, Digits, and Extra Spaces**: Cleansed the text by removing non-alphabetical characters, digits, and unnecessary spaces.\n",
    "- **Converting Text to Lowercase**: Standardized the text by converting all characters to lowercase.\n",
    "- **Tokenizing and Removing Stopwords**: Split the text into individual tokens (words) and removed common stopwords (e.g., \"the\", \"and\") to focus on meaningful content.\n"
   ]
  },
  {
   "cell_type": "code",
   "execution_count": null,
   "metadata": {},
   "outputs": [
    {
     "name": "stdout",
     "output_type": "stream",
     "text": [
      "\n",
      "First few cleaned tweet texts:\n",
      "0    i have a g iphone after hrs tweeting at it was...\n",
      "1    know about awesome ipadiphone app that youll l...\n",
      "2    can not wait for also they should sale them do...\n",
      "3    i hope this years festival isnt as crashy as t...\n",
      "4    great stuff on fri marissa mayer google tim or...\n",
      "Name: cleaned_text, dtype: object\n",
      "\n",
      "Dataframe shape: (9093, 5)\n"
     ]
    }
   ],
   "source": [
    "2.1 Data overview\n",
    "\n",
    "# Function to clean text\n",
    "def clean_text(text):\n",
    "    # Remove URLs\n",
    "    text = re.sub(r'http\\S+|www.\\S+', '', text)\n",
    "    \n",
    "    # Remove mentions and hashtags\n",
    "    text = re.sub(r'@\\w+|#\\w+', '', text)\n",
    "    \n",
    "    # Remove special characters, digits, and extra spaces\n",
    "    text = re.sub(r'[^a-zA-Z\\s]', '', text)\n",
    "    text = re.sub(r'\\s+', ' ', text).strip()\n",
    "    \n",
    "    # Convert to lowercase\n",
    "    text = text.lower()\n",
    "    \n",
    "    return text\n",
    "\n",
    "# Apply the cleaning function to the tweet_text column\n",
    "df['cleaned_text'] = df['tweet_text'].apply(clean_text)\n",
    "\n",
    "# Display the first few cleaned tweets\n",
    "print(\"\\nFirst few cleaned tweet texts:\")\n",
    "print(df['cleaned_text'].head())\n",
    "\n",
    "\n",
    "# Print the shape of the dataframe\n",
    "print(\"\\nDataframe shape:\", df.shape)"
   ]
  },
  {
   "cell_type": "code",
   "execution_count": 207,
   "metadata": {},
   "outputs": [
    {
     "data": {
      "application/vnd.microsoft.datawrangler.viewer.v0+json": {
       "columns": [
        {
         "name": "index",
         "rawType": "int64",
         "type": "integer"
        },
        {
         "name": "tweet_text",
         "rawType": "object",
         "type": "string"
        },
        {
         "name": "product_brand",
         "rawType": "object",
         "type": "string"
        },
        {
         "name": "sentiment",
         "rawType": "object",
         "type": "string"
        },
        {
         "name": "brand_item",
         "rawType": "object",
         "type": "string"
        },
        {
         "name": "cleaned_text",
         "rawType": "object",
         "type": "string"
        }
       ],
       "conversionMethod": "pd.DataFrame",
       "ref": "d2ff193b-8125-47ed-9f86-eda4e283c065",
       "rows": [
        [
         "0",
         ".@wesley83 I have a 3G iPhone. After 3 hrs tweeting at #RISE_Austin, it was dead!  I need to upgrade. Plugin stations at #SXSW.",
         "apple",
         "negative",
         "iPhone",
         "i have a g iphone after hrs tweeting at it was dead i need to upgrade plugin stations at"
        ],
        [
         "1",
         "@jessedee Know about @fludapp ? Awesome iPad/iPhone app that you'll likely appreciate for its design. Also, they're giving free Ts at #SXSW",
         "apple",
         "positive",
         "iPad or iPhone App",
         "know about awesome ipadiphone app that youll likely appreciate for its design also theyre giving free ts at"
        ],
        [
         "2",
         "@swonderlin Can not wait for #iPad 2 also. They should sale them down at #SXSW.",
         "apple",
         "positive",
         "iPad",
         "can not wait for also they should sale them down at"
        ],
        [
         "3",
         "@sxsw I hope this year's festival isn't as crashy as this year's iPhone app. #sxsw",
         "apple",
         "negative",
         "iPad or iPhone App",
         "i hope this years festival isnt as crashy as this years iphone app"
        ],
        [
         "4",
         "@sxtxstate great stuff on Fri #SXSW: Marissa Mayer (Google), Tim O'Reilly (tech books/conferences) &amp; Matt Mullenweg (Wordpress)",
         "google",
         "positive",
         "Google",
         "great stuff on fri marissa mayer google tim oreilly tech booksconferences amp matt mullenweg wordpress"
        ]
       ],
       "shape": {
        "columns": 5,
        "rows": 5
       }
      },
      "text/html": [
       "<div>\n",
       "<style scoped>\n",
       "    .dataframe tbody tr th:only-of-type {\n",
       "        vertical-align: middle;\n",
       "    }\n",
       "\n",
       "    .dataframe tbody tr th {\n",
       "        vertical-align: top;\n",
       "    }\n",
       "\n",
       "    .dataframe thead th {\n",
       "        text-align: right;\n",
       "    }\n",
       "</style>\n",
       "<table border=\"1\" class=\"dataframe\">\n",
       "  <thead>\n",
       "    <tr style=\"text-align: right;\">\n",
       "      <th></th>\n",
       "      <th>tweet_text</th>\n",
       "      <th>product_brand</th>\n",
       "      <th>sentiment</th>\n",
       "      <th>brand_item</th>\n",
       "      <th>cleaned_text</th>\n",
       "    </tr>\n",
       "  </thead>\n",
       "  <tbody>\n",
       "    <tr>\n",
       "      <th>0</th>\n",
       "      <td>.@wesley83 I have a 3G iPhone. After 3 hrs twe...</td>\n",
       "      <td>apple</td>\n",
       "      <td>negative</td>\n",
       "      <td>iPhone</td>\n",
       "      <td>i have a g iphone after hrs tweeting at it was...</td>\n",
       "    </tr>\n",
       "    <tr>\n",
       "      <th>1</th>\n",
       "      <td>@jessedee Know about @fludapp ? Awesome iPad/i...</td>\n",
       "      <td>apple</td>\n",
       "      <td>positive</td>\n",
       "      <td>iPad or iPhone App</td>\n",
       "      <td>know about awesome ipadiphone app that youll l...</td>\n",
       "    </tr>\n",
       "    <tr>\n",
       "      <th>2</th>\n",
       "      <td>@swonderlin Can not wait for #iPad 2 also. The...</td>\n",
       "      <td>apple</td>\n",
       "      <td>positive</td>\n",
       "      <td>iPad</td>\n",
       "      <td>can not wait for also they should sale them do...</td>\n",
       "    </tr>\n",
       "    <tr>\n",
       "      <th>3</th>\n",
       "      <td>@sxsw I hope this year's festival isn't as cra...</td>\n",
       "      <td>apple</td>\n",
       "      <td>negative</td>\n",
       "      <td>iPad or iPhone App</td>\n",
       "      <td>i hope this years festival isnt as crashy as t...</td>\n",
       "    </tr>\n",
       "    <tr>\n",
       "      <th>4</th>\n",
       "      <td>@sxtxstate great stuff on Fri #SXSW: Marissa M...</td>\n",
       "      <td>google</td>\n",
       "      <td>positive</td>\n",
       "      <td>Google</td>\n",
       "      <td>great stuff on fri marissa mayer google tim or...</td>\n",
       "    </tr>\n",
       "  </tbody>\n",
       "</table>\n",
       "</div>"
      ],
      "text/plain": [
       "                                          tweet_text product_brand sentiment  \\\n",
       "0  .@wesley83 I have a 3G iPhone. After 3 hrs twe...         apple  negative   \n",
       "1  @jessedee Know about @fludapp ? Awesome iPad/i...         apple  positive   \n",
       "2  @swonderlin Can not wait for #iPad 2 also. The...         apple  positive   \n",
       "3  @sxsw I hope this year's festival isn't as cra...         apple  negative   \n",
       "4  @sxtxstate great stuff on Fri #SXSW: Marissa M...        google  positive   \n",
       "\n",
       "           brand_item                                       cleaned_text  \n",
       "0              iPhone  i have a g iphone after hrs tweeting at it was...  \n",
       "1  iPad or iPhone App  know about awesome ipadiphone app that youll l...  \n",
       "2                iPad  can not wait for also they should sale them do...  \n",
       "3  iPad or iPhone App  i hope this years festival isnt as crashy as t...  \n",
       "4              Google  great stuff on fri marissa mayer google tim or...  "
      ]
     },
     "execution_count": 207,
     "metadata": {},
     "output_type": "execute_result"
    }
   ],
   "source": [
    "df.head()"
   ]
  },
  {
   "cell_type": "markdown",
   "metadata": {},
   "source": [
    "**MODELLING**"
   ]
  },
  {
   "cell_type": "markdown",
   "metadata": {},
   "source": [
    "\n",
    "\n",
    "<small>\n",
    "In this section, we will build and evaluate various machine learning models to classify sentiments in the dataset. The goal is to determine the most effective model for both binary classification (positive/negative) and multi-class classification (positive/negative/neutral).\n"
   ]
  },
  {
   "cell_type": "markdown",
   "metadata": {},
   "source": [
    "3.1 Preparing Data for Binary or Multi-class Classification \n",
    "<small>\n",
    "\n",
    "We begin by preparing the data for modeling. Depending on the task, we either restrict the dataset to only positive and negative sentiments for binary classification or include neutral sentiments for multi-class classification. We also encode the target sentiment labels into numerical values and prepare the features, including the processed text and product brand.\n",
    "<small>"
   ]
  },
  {
   "cell_type": "code",
   "execution_count": 214,
   "metadata": {},
   "outputs": [],
   "source": [
    "# Function to prepare data for binary or multi-class classification\n",
    "def prepare_data(df, binary=True):\n",
    "    if binary:\n",
    "        # Keep only positive and negative sentiments for binary classification\n",
    "        df = df[df['sentiment'].isin(['positive', 'negative'])].copy()  # Create a copy to avoid the warning\n",
    "    else:\n",
    "        # Include all sentiments for multi-class classification\n",
    "        df = df[df['sentiment'].isin(['positive', 'negative', 'neutral'])].copy()  # Copy for safety\n",
    "    \n",
    "    # Encode the target variable\n",
    "    le = LabelEncoder()\n",
    "    df['sentiment_encoded'] = le.fit_transform(df['sentiment'])  # Modify copy of DataFrame\n",
    "    \n",
    "    # Prepare features (X) and target (y)\n",
    "    X = df[['preprocessed_text', 'product_brand']]\n",
    "    y = df['sentiment_encoded']\n",
    "    \n",
    "    return X, y, le\n"
   ]
  },
  {
   "cell_type": "markdown",
   "metadata": {},
   "source": [
    "3.2 Vectorization using Tfi-df\n",
    "\n",
    "<small>\n",
    "The textual data is transformed into numerical form using TfidfVectorizer, which converts the preprocessed_text into a matrix of TF-IDF features. The categorical variable product_brand is also encoded using OneHotEncoder to incorporate brand information into the model. A ColumnTransformer is used to apply these transformations to the respective features\n",
    "<small>"
   ]
  },
  {
   "cell_type": "code",
   "execution_count": 215,
   "metadata": {},
   "outputs": [],
   "source": [
    "preprocessor = ColumnTransformer(\n",
    "    transformers=[\n",
    "        ('text_tfidf', TfidfVectorizer(max_features=5000), 'preprocessed_text'),\n",
    "        ('product_onehot', OneHotEncoder(drop='first', sparse_output=False), ['product_brand'])\n",
    "    ])"
   ]
  },
  {
   "cell_type": "markdown",
   "metadata": {},
   "source": [
    "3.3 Pipelines(Binary Classification )\n",
    "\n",
    "<small>\n",
    "To streamline the process of preprocessing and model training, I defineD several pipelines for different machine learning algorithms. These pipelines include:\n",
    "\n",
    "- **Logistic Regression**\n",
    "- **Random Forest**\n",
    "- **Support Vector Machine (SVM)**\n",
    "- **Gradient Boosting**\n",
    "- **Neural Networks (MLPClassifier)**\n",
    "- **XGBoost**\n"
   ]
  },
  {
   "cell_type": "code",
   "execution_count": 220,
   "metadata": {},
   "outputs": [],
   "source": [
    "from sklearn.ensemble import RandomForestClassifier, GradientBoostingClassifier\n",
    "from sklearn.neural_network import MLPClassifier\n",
    "from xgboost import XGBClassifier\n",
    "\n",
    "pipelines = {\n",
    "    'Logistic Regression': Pipeline([\n",
    "        ('preprocessor', preprocessor),\n",
    "        ('clf', LogisticRegression(random_state=42))\n",
    "    ]),\n",
    "    'Random Forest': Pipeline([\n",
    "        ('preprocessor', preprocessor),\n",
    "        ('clf', RandomForestClassifier(n_estimators=100, random_state=42))\n",
    "    ]),\n",
    "    'SVM': Pipeline([\n",
    "        ('preprocessor', preprocessor),\n",
    "        ('clf', SVC(kernel='rbf', random_state=42))\n",
    "    ]),\n",
    "    'Gradient Boosting': Pipeline([\n",
    "        ('preprocessor', preprocessor),\n",
    "        ('clf', GradientBoostingClassifier(n_estimators=100, random_state=42))\n",
    "    ]),\n",
    "    'Neural Network': Pipeline([\n",
    "        ('preprocessor', preprocessor),\n",
    "        ('clf', MLPClassifier(hidden_layer_sizes=(100, 50), max_iter=500, random_state=42))\n",
    "    ]),\n",
    "    'XGBoost': Pipeline([\n",
    "        ('preprocessor', preprocessor),\n",
    "        ('clf', XGBClassifier(n_estimators=100, random_state=42))\n",
    "    ])\n",
    "    # 'LightGBM': Pipeline([\n",
    "    #     ('preprocessor', preprocessor),\n",
    "    #     ('clf', LGBMClassifier(n_estimators=100, random_state=42))\n",
    "    # ])\n",
    "}"
   ]
  },
  {
   "cell_type": "markdown",
   "metadata": {},
   "source": [
    "**TRAINING AND EVALUATION OF MODELS**"
   ]
  },
  {
   "cell_type": "code",
   "execution_count": 221,
   "metadata": {},
   "outputs": [],
   "source": [
    "# Function to train and evaluate models\n",
    "def train_and_evaluate(X, y, pipelines):\n",
    "    X_train, X_test, y_train, y_test = train_test_split(X, y, test_size=0.2, random_state=42)\n",
    "    results = {}\n",
    "\n",
    "    for name, pipeline in pipelines.items():\n",
    "        print(f\"\\nTraining {name}...\")\n",
    "        pipeline.fit(X_train, y_train)\n",
    "        \n",
    "        y_pred = pipeline.predict(X_test)\n",
    "        \n",
    "        accuracy = accuracy_score(y_test, y_pred)\n",
    "        report = classification_report(y_test, y_pred, target_names=le.classes_, output_dict=True)\n",
    "        cm = confusion_matrix(y_test, y_pred)\n",
    "        \n",
    "        results[name] = {\n",
    "            'accuracy': accuracy,\n",
    "            'report': report,\n",
    "            'confusion_matrix': cm\n",
    "        }\n",
    "        \n",
    "        print(f\"{name} Accuracy: {accuracy:.4f}\")\n",
    "\n",
    "    return results, X_test"
   ]
  },
  {
   "cell_type": "markdown",
   "metadata": {},
   "source": [
    "**4.2 Train and Evaluate Binary Classification Models**"
   ]
  },
  {
   "cell_type": "code",
   "execution_count": 230,
   "metadata": {},
   "outputs": [],
   "source": [
    "# Apply your filtering to be left with tweets with either postive or negative emotion\n",
    "data_binary= data[data['sentiment'].isin([1, 3])]  # 1 = Negative, 3 = Positive"
   ]
  },
  {
   "cell_type": "code",
   "execution_count": 237,
   "metadata": {},
   "outputs": [
    {
     "data": {
      "application/vnd.microsoft.datawrangler.viewer.v0+json": {
       "columns": [
        {
         "name": "index",
         "rawType": "int64",
         "type": "integer"
        },
        {
         "name": "tweet_text",
         "rawType": "object",
         "type": "string"
        },
        {
         "name": "product_brand",
         "rawType": "object",
         "type": "string"
        }
       ],
       "conversionMethod": "pd.DataFrame",
       "ref": "6d822713-492a-456e-b9c3-65d67e14d8cb",
       "rows": [
        [
         "3473",
         "@mention Hey Mark, no sleep for you at #sxsw! Bring me home a shiny new iPad, would ya? :) @mention",
         "iPad"
        ],
        [
         "2435",
         "I composed a tweet so acerbic and cynical about ipad users that my phone crashed and dumped all my apps. #twitterpower #sxsw #imthatgood",
         "iPad"
        ],
        [
         "2461",
         "free #iPad Lounge open daily for #SXSW serving art made on iPads, and local art, free coffee, @mention Austin Details {link} #photo",
         "missing_value"
        ],
        [
         "6187",
         "RT @mention It's not a rumor: Apple is opening up a temporary store in downtown Austin for #SXSW and the iPad 2 launch bit.ly/g03MZB",
         "missing_value"
        ],
        [
         "8359",
         "Last minute flight change to #sxsw means I can pick up an iPad 2 before I leave! #fb",
         "iPad"
        ],
        [
         "5499",
         "RT @mention At #sxsw apple has 99% marketshare, not seeing much linux.",
         "missing_value"
        ],
        [
         "2942",
         "{link} @mention chatting it up via iPhone. Hilarious. #sxsw",
         "iPhone"
        ],
        [
         "2072",
         "#bettersearch #sxsw Does Google weight Hotpot reviews heavier than other review sites when collecting data for local search results?",
         "missing_value"
        ],
        [
         "7302",
         "Setting up for the Google #gsdm  #sxsw party. It's going to be a-ma-zing. Check out events at sxsurrogates.com and come on out.",
         "Google"
        ],
        [
         "326",
         "ÛÏ@mention at #sxsw: &quot;apple comes up with cool technology no one's ever heard of because they don't go to conferences&quot;Û",
         "Apple"
        ],
        [
         "7004",
         "Fuck. iPhone crapped out, will not charge at all. Says it is charging, but at 5% after all night. What are my options in Austin? #sxsw",
         "iPhone"
        ],
        [
         "8072",
         "What a dissapointment!!! RT @mention New #UberSocial for #iPhone now in the App Store includes UberGuide to #SXSW sponsored by (contÛ_",
         "iPad or iPhone App"
        ],
        [
         "6927",
         "RT @mention When will Google Circles launch? {link} &quot;May have good timing given Twitter? #sxsw",
         "missing_value"
        ],
        [
         "3790",
         "VIP @mention the apple store! #sxsw #nerdheaven",
         "Apple"
        ],
        [
         "2774",
         "Hope there's time left for Poked Liked and retweeted and Google love story (social vs search). #sxsw",
         "missing_value"
        ],
        [
         "6781",
         "RT @mention They are everywhere: It's just crazy to look around sxsw and realize last year no one had an iPad. #sxsw",
         "iPad"
        ],
        [
         "7581",
         "Google Circles social network? {link} #SXSW",
         "missing_value"
        ],
        [
         "1830",
         "Just saw a preview of the new @mention iPad app. Awesome. #sxsw",
         "iPad or iPhone App"
        ],
        [
         "5183",
         "RT @mention &quot;I'm just learning all of these things from the screen.&quot; A 4-year old's explanation of how she instantly knew how to use an iPad. #sxsw",
         "iPad"
        ],
        [
         "252",
         "Arduino + android = Flaming skulls  {link} Refrigerator Speaks , Salon K, 3:30pm @mention @mention #sxsw #smartthings",
         "missing_value"
        ],
        [
         "6377",
         "RT @mention No surprise, consumerization of IT makes its way into conversation of cloud adoption - and Apple's UI influence on enterprise #cloud #sxsw",
         "missing_value"
        ],
        [
         "6239",
         "RT @mention Late night security guard at #sxsw popup Apple store {link}",
         "missing_value"
        ],
        [
         "4960",
         "At the Google party at GSD&amp;M {link} #SXSW",
         "missing_value"
        ],
        [
         "4152",
         ": Aron Pilhofer from The New York Times just endorsed HTML over iPad at the #NewsApps #sxsw and asked us not to tweet what he actually said!",
         "iPad"
        ],
        [
         "755",
         "Google to Launch Major New Social Network Called #Circles - {link} &gt; Update: No preview planned at #SXSW",
         "missing_value"
        ],
        [
         "1550",
         "@mention @mention @mention Hmmm....how fast can #apple build a new store in time for #sxsw  {link}",
         "missing_value"
        ],
        [
         "2079",
         "Share, share and share some more. #Posterous Joins The #SXSW Pile On With Posterous Events For iPhone {link} #socmedia",
         "missing_value"
        ],
        [
         "101",
         "Headline: &quot;#iPad 2 is the Must-Have Gadget at #SXSW&quot; Hmm... I could have seen that one coming! {link} #gadget",
         "iPad"
        ],
        [
         "8882",
         "@mention Welcome! Enjoy #Sxsw and ride anywhere in Austin for $10 . dwnld the #GroundLink app{link} booth 437",
         "missing_value"
        ],
        [
         "7661",
         "Google street car at #SXSW.   @mention Brush Square Park {link}",
         "missing_value"
        ],
        [
         "8666",
         "Google launching  a new social network today? #sxsw {link}",
         "missing_value"
        ],
        [
         "8901",
         "@mention where's the apple #sxsw set-up? Can anyone get in?",
         "missing_value"
        ],
        [
         "8074",
         "LOL!! Classic! RT @mention This Google/Bing Q&amp;A panel is like the world's most expensive SEO consultation. #SXSW",
         "missing_value"
        ],
        [
         "7329",
         "want an ipad 2? here is your chance: Apple opening up a temporary store for #SXSW {link}  via @mention",
         "missing_value"
        ],
        [
         "3945",
         "The Netflix iPhone app was built to a &quot;ridiculous deadline&quot;. Big mistake on the tech's part to agree to it #sxsw",
         "iPad or iPhone App"
        ],
        [
         "2353",
         "@mention Check the latest stream at Apple's store at #SXSW {link} . ipad2 here I come. #PLAYSXSW",
         "iPad"
        ],
        [
         "2634",
         "Now at the better living through cloud computing #SXSW session with John Wiley from Google #bettercloud",
         "missing_value"
        ],
        [
         "2740",
         "#SXSW come to the #privacybootcamp for startups with @mention @mention Google, Facebook in ACC 9ABC. Starting now. #sxswi",
         "missing_value"
        ],
        [
         "1921",
         "biggest takeaway from #UXDes thus far -- bring physical world into your iPad design &amp; recreate already learned experiences. #sxsw",
         "missing_value"
        ],
        [
         "4468",
         "Hey Austin, know a little about #iPhone or #Android, love music &amp; wanna make $20/hour during #SXSW?  Please let me know.",
         "missing_value"
        ],
        [
         "2252",
         "Apple grabbed the tablet mindshare at #sxsw but RIM owns one of the most popular events. #foodspotting #mnbuzz  {link}",
         "Apple"
        ],
        [
         "5616",
         "RT @mention Checking out the Apple pop up store. Looking fwd to checking out the iPad 2. #sxsw #mosaicxm MK {link}",
         "iPad"
        ],
        [
         "5435",
         "RT @mention Apple is opening up a temporary store in downtown Austin for #SXSW and the iPad 2 launch  {link}",
         "missing_value"
        ],
        [
         "3035",
         "Apple takes bruises from panelists. Not well regarded in sustainability space.  Corporate Sustainability Reporting and Transparency.  #SXSW",
         "Apple"
        ],
        [
         "4852",
         "Heading to iPad Design Headaches in Hilton - Salon J #sxsw",
         "missing_value"
        ],
        [
         "6561",
         "RT @mention RT @mention Hey Austin, know a little about #iPhone or #Android, love music &amp; wanna make $20/hour during #SXSW?  Please let me know.",
         "missing_value"
        ],
        [
         "6799",
         "RT @mention Tim O'Reilly his Web 2.0 definition -firms tht survived built value frm consumer-generated data. eBay,Amazon,Google. #sxsw",
         "missing_value"
        ],
        [
         "7551",
         "Days later there's still a line out the door at the #SXSW apple store for the iPad2.  {link}",
         "iPad"
        ],
        [
         "4280",
         "Google's Marissa Mayer: &quot;The mobile phone is a cursor that connects the physical and digital worlds.&quot; #sxsw {link}",
         "missing_value"
        ],
        [
         "2754",
         "N14: There will be Blood {link} [codes valid: 4:00-7:59:59p 03/12/11] #infektd #sxsw #necro",
         "missing_value"
        ]
       ],
       "shape": {
        "columns": 2,
        "rows": 6819
       }
      },
      "text/html": [
       "<div>\n",
       "<style scoped>\n",
       "    .dataframe tbody tr th:only-of-type {\n",
       "        vertical-align: middle;\n",
       "    }\n",
       "\n",
       "    .dataframe tbody tr th {\n",
       "        vertical-align: top;\n",
       "    }\n",
       "\n",
       "    .dataframe thead th {\n",
       "        text-align: right;\n",
       "    }\n",
       "</style>\n",
       "<table border=\"1\" class=\"dataframe\">\n",
       "  <thead>\n",
       "    <tr style=\"text-align: right;\">\n",
       "      <th></th>\n",
       "      <th>tweet_text</th>\n",
       "      <th>product_brand</th>\n",
       "    </tr>\n",
       "  </thead>\n",
       "  <tbody>\n",
       "    <tr>\n",
       "      <th>3473</th>\n",
       "      <td>@mention Hey Mark, no sleep for you at #sxsw! ...</td>\n",
       "      <td>iPad</td>\n",
       "    </tr>\n",
       "    <tr>\n",
       "      <th>2435</th>\n",
       "      <td>I composed a tweet so acerbic and cynical abou...</td>\n",
       "      <td>iPad</td>\n",
       "    </tr>\n",
       "    <tr>\n",
       "      <th>2461</th>\n",
       "      <td>free #iPad Lounge open daily for #SXSW serving...</td>\n",
       "      <td>missing_value</td>\n",
       "    </tr>\n",
       "    <tr>\n",
       "      <th>6187</th>\n",
       "      <td>RT @mention It's not a rumor: Apple is opening...</td>\n",
       "      <td>missing_value</td>\n",
       "    </tr>\n",
       "    <tr>\n",
       "      <th>8359</th>\n",
       "      <td>Last minute flight change to #sxsw means I can...</td>\n",
       "      <td>iPad</td>\n",
       "    </tr>\n",
       "    <tr>\n",
       "      <th>...</th>\n",
       "      <td>...</td>\n",
       "      <td>...</td>\n",
       "    </tr>\n",
       "    <tr>\n",
       "      <th>2895</th>\n",
       "      <td>Google seems to have sabotaged my YouTube acco...</td>\n",
       "      <td>Google</td>\n",
       "    </tr>\n",
       "    <tr>\n",
       "      <th>7813</th>\n",
       "      <td>60% battery life on my iPhone and the conferen...</td>\n",
       "      <td>missing_value</td>\n",
       "    </tr>\n",
       "    <tr>\n",
       "      <th>905</th>\n",
       "      <td>Day 1 and my charger kicked the bucket. Where ...</td>\n",
       "      <td>Apple</td>\n",
       "    </tr>\n",
       "    <tr>\n",
       "      <th>5192</th>\n",
       "      <td>RT @mention &amp;quot;the future of local is conte...</td>\n",
       "      <td>Google</td>\n",
       "    </tr>\n",
       "    <tr>\n",
       "      <th>235</th>\n",
       "      <td>Dj hoodie allen, with all due respect, you sho...</td>\n",
       "      <td>missing_value</td>\n",
       "    </tr>\n",
       "  </tbody>\n",
       "</table>\n",
       "<p>6819 rows × 2 columns</p>\n",
       "</div>"
      ],
      "text/plain": [
       "                                             tweet_text  product_brand\n",
       "3473  @mention Hey Mark, no sleep for you at #sxsw! ...           iPad\n",
       "2435  I composed a tweet so acerbic and cynical abou...           iPad\n",
       "2461  free #iPad Lounge open daily for #SXSW serving...  missing_value\n",
       "6187  RT @mention It's not a rumor: Apple is opening...  missing_value\n",
       "8359  Last minute flight change to #sxsw means I can...           iPad\n",
       "...                                                 ...            ...\n",
       "2895  Google seems to have sabotaged my YouTube acco...         Google\n",
       "7813  60% battery life on my iPhone and the conferen...  missing_value\n",
       "905   Day 1 and my charger kicked the bucket. Where ...          Apple\n",
       "5192  RT @mention &quot;the future of local is conte...         Google\n",
       "235   Dj hoodie allen, with all due respect, you sho...  missing_value\n",
       "\n",
       "[6819 rows x 2 columns]"
      ]
     },
     "execution_count": 237,
     "metadata": {},
     "output_type": "execute_result"
    }
   ],
   "source": [
    "#Perform a train test split on data\n",
    "X = data[['tweet_text', 'product_brand']]\n",
    "y = data['sentiment']\n",
    "\n",
    "X_train, X_test, y_train, y_test = train_test_split(X, y, random_state= 1)\n",
    "X_train"
   ]
  },
  {
   "cell_type": "code",
   "execution_count": 238,
   "metadata": {},
   "outputs": [],
   "source": [
    "# Function to encode emojis\n",
    "def encode_emojis(text):\n",
    "    \"\"\"\n",
    "    Encode emojis in text using Unicode.\n",
    "\n",
    "    Parameters:\n",
    "    text (str): Input text containing emojis.\n",
    "\n",
    "    Returns:\n",
    "    str: Text with emojis encoded using Unicode.\n",
    "    \"\"\"\n",
    "    # Encode emojis using Unicode escape sequences\n",
    "    emoji_encoded_text = text.encode('unicode-escape').decode('utf-8')\n",
    "    \n",
    "    return emoji_encoded_text"
   ]
  },
  {
   "cell_type": "code",
   "execution_count": 241,
   "metadata": {},
   "outputs": [
    {
     "data": {
      "application/vnd.microsoft.datawrangler.viewer.v0+json": {
       "columns": [
        {
         "name": "index",
         "rawType": "int64",
         "type": "integer"
        },
        {
         "name": "tweet_text",
         "rawType": "object",
         "type": "string"
        },
        {
         "name": "cleaned_tweet",
         "rawType": "object",
         "type": "string"
        },
        {
         "name": "product_brand",
         "rawType": "object",
         "type": "string"
        }
       ],
       "conversionMethod": "pd.DataFrame",
       "ref": "e13a967d-fb31-4ef7-943e-1ba83363f895",
       "rows": [
        [
         "3473",
         "@mention Hey Mark, no sleep for you at #sxsw! Bring me home a shiny new iPad, would ya? :) @mention",
         "Hey Mark no sleep for you at sxsw Bring me home a shiny new iPad would ya  ",
         "iPad"
        ],
        [
         "2435",
         "I composed a tweet so acerbic and cynical about ipad users that my phone crashed and dumped all my apps. #twitterpower #sxsw #imthatgood",
         "I composed a tweet so acerbic and cynical about ipad users that my phone crashed and dumped all my apps twitterpower sxsw imthatgood",
         "iPad"
        ],
        [
         "2461",
         "free #iPad Lounge open daily for #SXSW serving art made on iPads, and local art, free coffee, @mention Austin Details {link} #photo",
         "free iPad Lounge open daily for SXSW serving art made on iPads and local art free coffee Austin Details  photo",
         "missing_value"
        ],
        [
         "6187",
         "RT @mention It's not a rumor: Apple is opening up a temporary store in downtown Austin for #SXSW and the iPad 2 launch bit.ly/g03MZB",
         " Its not a rumor Apple is opening up a temporary store in downtown Austin for SXSW and the iPad 2 launch bitlyg03MZB",
         "missing_value"
        ],
        [
         "8359",
         "Last minute flight change to #sxsw means I can pick up an iPad 2 before I leave! #fb",
         "Last minute flight change to sxsw means I can pick up an iPad 2 before I leave fb",
         "iPad"
        ],
        [
         "5499",
         "RT @mention At #sxsw apple has 99% marketshare, not seeing much linux.",
         " At sxsw apple has 99 marketshare not seeing much linux",
         "missing_value"
        ],
        [
         "2942",
         "{link} @mention chatting it up via iPhone. Hilarious. #sxsw",
         " chatting it up via iPhone Hilarious sxsw",
         "iPhone"
        ],
        [
         "2072",
         "#bettersearch #sxsw Does Google weight Hotpot reviews heavier than other review sites when collecting data for local search results?",
         "bettersearch sxsw Does Google weight Hotpot reviews heavier than other review sites when collecting data for local search results",
         "missing_value"
        ],
        [
         "7302",
         "Setting up for the Google #gsdm  #sxsw party. It's going to be a-ma-zing. Check out events at sxsurrogates.com and come on out.",
         "Setting up for the Google gsdm  sxsw party Its going to be amazing Check out events at sxsurrogatescom and come on out",
         "Google"
        ],
        [
         "326",
         "ÛÏ@mention at #sxsw: &quot;apple comes up with cool technology no one's ever heard of because they don't go to conferences&quot;Û",
         "at sxsw quotapple comes up with cool technology no ones ever heard of because they dont go to conferencesquot",
         "Apple"
        ],
        [
         "7004",
         "Fuck. iPhone crapped out, will not charge at all. Says it is charging, but at 5% after all night. What are my options in Austin? #sxsw",
         "Fuck iPhone crapped out will not charge at all Says it is charging but at 5 after all night What are my options in Austin sxsw",
         "iPhone"
        ],
        [
         "8072",
         "What a dissapointment!!! RT @mention New #UberSocial for #iPhone now in the App Store includes UberGuide to #SXSW sponsored by (contÛ_",
         "What a dissapointment  New UberSocial for iPhone now in the App Store includes UberGuide to SXSW sponsored by cont",
         "iPad or iPhone App"
        ],
        [
         "6927",
         "RT @mention When will Google Circles launch? {link} &quot;May have good timing given Twitter? #sxsw",
         " When will Google Circles launch  quotMay have good timing given Twitter sxsw",
         "missing_value"
        ],
        [
         "3790",
         "VIP @mention the apple store! #sxsw #nerdheaven",
         "VIP the apple store sxsw nerdheaven",
         "Apple"
        ],
        [
         "2774",
         "Hope there's time left for Poked Liked and retweeted and Google love story (social vs search). #sxsw",
         "Hope theres time left for Poked Liked and retweeted and Google love story  sxsw",
         "missing_value"
        ],
        [
         "6781",
         "RT @mention They are everywhere: It's just crazy to look around sxsw and realize last year no one had an iPad. #sxsw",
         " They are everywhere Its just crazy to look around sxsw and realize last year no one had an iPad sxsw",
         "iPad"
        ],
        [
         "7581",
         "Google Circles social network? {link} #SXSW",
         "Google Circles social network  SXSW",
         "missing_value"
        ],
        [
         "1830",
         "Just saw a preview of the new @mention iPad app. Awesome. #sxsw",
         "Just saw a preview of the new iPad app Awesome sxsw",
         "iPad or iPhone App"
        ],
        [
         "5183",
         "RT @mention &quot;I'm just learning all of these things from the screen.&quot; A 4-year old's explanation of how she instantly knew how to use an iPad. #sxsw",
         " quotIm just learning all of these things from the screenquot A 4year olds explanation of how she instantly knew how to use an iPad sxsw",
         "iPad"
        ],
        [
         "252",
         "Arduino + android = Flaming skulls  {link} Refrigerator Speaks , Salon K, 3:30pm @mention @mention #sxsw #smartthings",
         "Arduino  android  Flaming skulls   Refrigerator Speaks  Salon K 330pm sxsw smartthings",
         "missing_value"
        ],
        [
         "6377",
         "RT @mention No surprise, consumerization of IT makes its way into conversation of cloud adoption - and Apple's UI influence on enterprise #cloud #sxsw",
         " No surprise consumerization of IT makes its way into conversation of cloud adoption  and Apples UI influence on enterprise cloud sxsw",
         "missing_value"
        ],
        [
         "6239",
         "RT @mention Late night security guard at #sxsw popup Apple store {link}",
         " Late night security guard at sxsw popup Apple store ",
         "missing_value"
        ],
        [
         "4960",
         "At the Google party at GSD&amp;M {link} #SXSW",
         "At the Google party at GSDampM  SXSW",
         "missing_value"
        ],
        [
         "4152",
         ": Aron Pilhofer from The New York Times just endorsed HTML over iPad at the #NewsApps #sxsw and asked us not to tweet what he actually said!",
         " Aron Pilhofer from The New York Times just endorsed HTML over iPad at the NewsApps sxsw and asked us not to tweet what he actually said",
         "iPad"
        ],
        [
         "755",
         "Google to Launch Major New Social Network Called #Circles - {link} &gt; Update: No preview planned at #SXSW",
         "Google to Launch Major New Social Network Called Circles   gt Update No preview planned at SXSW",
         "missing_value"
        ],
        [
         "1550",
         "@mention @mention @mention Hmmm....how fast can #apple build a new store in time for #sxsw  {link}",
         "Hmmmhow fast can apple build a new store in time for sxsw  ",
         "missing_value"
        ],
        [
         "2079",
         "Share, share and share some more. #Posterous Joins The #SXSW Pile On With Posterous Events For iPhone {link} #socmedia",
         "Share share and share some more Posterous Joins The SXSW Pile On With Posterous Events For iPhone  socmedia",
         "missing_value"
        ],
        [
         "101",
         "Headline: &quot;#iPad 2 is the Must-Have Gadget at #SXSW&quot; Hmm... I could have seen that one coming! {link} #gadget",
         "Headline quotiPad 2 is the MustHave Gadget at SXSWquot Hmm I could have seen that one coming  gadget",
         "iPad"
        ],
        [
         "8882",
         "@mention Welcome! Enjoy #Sxsw and ride anywhere in Austin for $10 . dwnld the #GroundLink app{link} booth 437",
         "Welcome Enjoy Sxsw and ride anywhere in Austin for 10  dwnld the GroundLink app booth 437",
         "missing_value"
        ],
        [
         "7661",
         "Google street car at #SXSW.   @mention Brush Square Park {link}",
         "Google street car at SXSW   Brush Square Park ",
         "missing_value"
        ],
        [
         "8666",
         "Google launching  a new social network today? #sxsw {link}",
         "Google launching  a new social network today sxsw ",
         "missing_value"
        ],
        [
         "8901",
         "@mention where's the apple #sxsw set-up? Can anyone get in?",
         "wheres the apple sxsw setup Can anyone get in",
         "missing_value"
        ],
        [
         "8074",
         "LOL!! Classic! RT @mention This Google/Bing Q&amp;A panel is like the world's most expensive SEO consultation. #SXSW",
         "LOL Classic  This GoogleBing QampA panel is like the worlds most expensive SEO consultation SXSW",
         "missing_value"
        ],
        [
         "7329",
         "want an ipad 2? here is your chance: Apple opening up a temporary store for #SXSW {link}  via @mention",
         "want an ipad 2 here is your chance Apple opening up a temporary store for SXSW   via ",
         "missing_value"
        ],
        [
         "3945",
         "The Netflix iPhone app was built to a &quot;ridiculous deadline&quot;. Big mistake on the tech's part to agree to it #sxsw",
         "The Netflix iPhone app was built to a quotridiculous deadlinequot Big mistake on the techs part to agree to it sxsw",
         "iPad or iPhone App"
        ],
        [
         "2353",
         "@mention Check the latest stream at Apple's store at #SXSW {link} . ipad2 here I come. #PLAYSXSW",
         "Check the latest stream at Apples store at SXSW   ipad2 here I come PLAYSXSW",
         "iPad"
        ],
        [
         "2634",
         "Now at the better living through cloud computing #SXSW session with John Wiley from Google #bettercloud",
         "Now at the better living through cloud computing SXSW session with John Wiley from Google bettercloud",
         "missing_value"
        ],
        [
         "2740",
         "#SXSW come to the #privacybootcamp for startups with @mention @mention Google, Facebook in ACC 9ABC. Starting now. #sxswi",
         "SXSW come to the privacybootcamp for startups with Google Facebook in ACC 9ABC Starting now sxswi",
         "missing_value"
        ],
        [
         "1921",
         "biggest takeaway from #UXDes thus far -- bring physical world into your iPad design &amp; recreate already learned experiences. #sxsw",
         "biggest takeaway from UXDes thus far  bring physical world into your iPad design amp recreate already learned experiences sxsw",
         "missing_value"
        ],
        [
         "4468",
         "Hey Austin, know a little about #iPhone or #Android, love music &amp; wanna make $20/hour during #SXSW?  Please let me know.",
         "Hey Austin know a little about iPhone or Android love music amp wanna make 20hour during SXSW  Please let me know",
         "missing_value"
        ],
        [
         "2252",
         "Apple grabbed the tablet mindshare at #sxsw but RIM owns one of the most popular events. #foodspotting #mnbuzz  {link}",
         "Apple grabbed the tablet mindshare at sxsw but RIM owns one of the most popular events foodspotting mnbuzz  ",
         "Apple"
        ],
        [
         "5616",
         "RT @mention Checking out the Apple pop up store. Looking fwd to checking out the iPad 2. #sxsw #mosaicxm MK {link}",
         " Checking out the Apple pop up store Looking fwd to checking out the iPad 2 sxsw mosaicxm MK ",
         "iPad"
        ],
        [
         "5435",
         "RT @mention Apple is opening up a temporary store in downtown Austin for #SXSW and the iPad 2 launch  {link}",
         " Apple is opening up a temporary store in downtown Austin for SXSW and the iPad 2 launch  ",
         "missing_value"
        ],
        [
         "3035",
         "Apple takes bruises from panelists. Not well regarded in sustainability space.  Corporate Sustainability Reporting and Transparency.  #SXSW",
         "Apple takes bruises from panelists Not well regarded in sustainability space  Corporate Sustainability Reporting and Transparency  SXSW",
         "Apple"
        ],
        [
         "4852",
         "Heading to iPad Design Headaches in Hilton - Salon J #sxsw",
         "Heading to iPad Design Headaches in Hilton  Salon J sxsw",
         "missing_value"
        ],
        [
         "6561",
         "RT @mention RT @mention Hey Austin, know a little about #iPhone or #Android, love music &amp; wanna make $20/hour during #SXSW?  Please let me know.",
         "  Hey Austin know a little about iPhone or Android love music amp wanna make 20hour during SXSW  Please let me know",
         "missing_value"
        ],
        [
         "6799",
         "RT @mention Tim O'Reilly his Web 2.0 definition -firms tht survived built value frm consumer-generated data. eBay,Amazon,Google. #sxsw",
         " Tim OReilly his Web 20 definition firms tht survived built value frm consumergenerated data eBayAmazonGoogle sxsw",
         "missing_value"
        ],
        [
         "7551",
         "Days later there's still a line out the door at the #SXSW apple store for the iPad2.  {link}",
         "Days later theres still a line out the door at the SXSW apple store for the iPad2  ",
         "iPad"
        ],
        [
         "4280",
         "Google's Marissa Mayer: &quot;The mobile phone is a cursor that connects the physical and digital worlds.&quot; #sxsw {link}",
         "Googles Marissa Mayer quotThe mobile phone is a cursor that connects the physical and digital worldsquot sxsw ",
         "missing_value"
        ],
        [
         "2754",
         "N14: There will be Blood {link} [codes valid: 4:00-7:59:59p 03/12/11] #infektd #sxsw #necro",
         "N14 There will be Blood   infektd sxsw necro",
         "missing_value"
        ]
       ],
       "shape": {
        "columns": 3,
        "rows": 6819
       }
      },
      "text/html": [
       "<div>\n",
       "<style scoped>\n",
       "    .dataframe tbody tr th:only-of-type {\n",
       "        vertical-align: middle;\n",
       "    }\n",
       "\n",
       "    .dataframe tbody tr th {\n",
       "        vertical-align: top;\n",
       "    }\n",
       "\n",
       "    .dataframe thead th {\n",
       "        text-align: right;\n",
       "    }\n",
       "</style>\n",
       "<table border=\"1\" class=\"dataframe\">\n",
       "  <thead>\n",
       "    <tr style=\"text-align: right;\">\n",
       "      <th></th>\n",
       "      <th>tweet_text</th>\n",
       "      <th>cleaned_tweet</th>\n",
       "      <th>product_brand</th>\n",
       "    </tr>\n",
       "  </thead>\n",
       "  <tbody>\n",
       "    <tr>\n",
       "      <th>3473</th>\n",
       "      <td>@mention Hey Mark, no sleep for you at #sxsw! ...</td>\n",
       "      <td>Hey Mark no sleep for you at sxsw Bring me hom...</td>\n",
       "      <td>iPad</td>\n",
       "    </tr>\n",
       "    <tr>\n",
       "      <th>2435</th>\n",
       "      <td>I composed a tweet so acerbic and cynical abou...</td>\n",
       "      <td>I composed a tweet so acerbic and cynical abou...</td>\n",
       "      <td>iPad</td>\n",
       "    </tr>\n",
       "    <tr>\n",
       "      <th>2461</th>\n",
       "      <td>free #iPad Lounge open daily for #SXSW serving...</td>\n",
       "      <td>free iPad Lounge open daily for SXSW serving a...</td>\n",
       "      <td>missing_value</td>\n",
       "    </tr>\n",
       "    <tr>\n",
       "      <th>6187</th>\n",
       "      <td>RT @mention It's not a rumor: Apple is opening...</td>\n",
       "      <td>Its not a rumor Apple is opening up a tempora...</td>\n",
       "      <td>missing_value</td>\n",
       "    </tr>\n",
       "    <tr>\n",
       "      <th>8359</th>\n",
       "      <td>Last minute flight change to #sxsw means I can...</td>\n",
       "      <td>Last minute flight change to sxsw means I can ...</td>\n",
       "      <td>iPad</td>\n",
       "    </tr>\n",
       "    <tr>\n",
       "      <th>...</th>\n",
       "      <td>...</td>\n",
       "      <td>...</td>\n",
       "      <td>...</td>\n",
       "    </tr>\n",
       "    <tr>\n",
       "      <th>2895</th>\n",
       "      <td>Google seems to have sabotaged my YouTube acco...</td>\n",
       "      <td>Google seems to have sabotaged my YouTube acco...</td>\n",
       "      <td>Google</td>\n",
       "    </tr>\n",
       "    <tr>\n",
       "      <th>7813</th>\n",
       "      <td>60% battery life on my iPhone and the conferen...</td>\n",
       "      <td>60 battery life on my iPhone and the conferenc...</td>\n",
       "      <td>missing_value</td>\n",
       "    </tr>\n",
       "    <tr>\n",
       "      <th>905</th>\n",
       "      <td>Day 1 and my charger kicked the bucket. Where ...</td>\n",
       "      <td>Day 1 and my charger kicked the bucket Where t...</td>\n",
       "      <td>Apple</td>\n",
       "    </tr>\n",
       "    <tr>\n",
       "      <th>5192</th>\n",
       "      <td>RT @mention &amp;quot;the future of local is conte...</td>\n",
       "      <td>quotthe future of local is contextual discove...</td>\n",
       "      <td>Google</td>\n",
       "    </tr>\n",
       "    <tr>\n",
       "      <th>235</th>\n",
       "      <td>Dj hoodie allen, with all due respect, you sho...</td>\n",
       "      <td>Dj hoodie allen with all due respect you shoul...</td>\n",
       "      <td>missing_value</td>\n",
       "    </tr>\n",
       "  </tbody>\n",
       "</table>\n",
       "<p>6819 rows × 3 columns</p>\n",
       "</div>"
      ],
      "text/plain": [
       "                                             tweet_text  \\\n",
       "3473  @mention Hey Mark, no sleep for you at #sxsw! ...   \n",
       "2435  I composed a tweet so acerbic and cynical abou...   \n",
       "2461  free #iPad Lounge open daily for #SXSW serving...   \n",
       "6187  RT @mention It's not a rumor: Apple is opening...   \n",
       "8359  Last minute flight change to #sxsw means I can...   \n",
       "...                                                 ...   \n",
       "2895  Google seems to have sabotaged my YouTube acco...   \n",
       "7813  60% battery life on my iPhone and the conferen...   \n",
       "905   Day 1 and my charger kicked the bucket. Where ...   \n",
       "5192  RT @mention &quot;the future of local is conte...   \n",
       "235   Dj hoodie allen, with all due respect, you sho...   \n",
       "\n",
       "                                          cleaned_tweet  product_brand  \n",
       "3473  Hey Mark no sleep for you at sxsw Bring me hom...           iPad  \n",
       "2435  I composed a tweet so acerbic and cynical abou...           iPad  \n",
       "2461  free iPad Lounge open daily for SXSW serving a...  missing_value  \n",
       "6187   Its not a rumor Apple is opening up a tempora...  missing_value  \n",
       "8359  Last minute flight change to sxsw means I can ...           iPad  \n",
       "...                                                 ...            ...  \n",
       "2895  Google seems to have sabotaged my YouTube acco...         Google  \n",
       "7813  60 battery life on my iPhone and the conferenc...  missing_value  \n",
       "905   Day 1 and my charger kicked the bucket Where t...          Apple  \n",
       "5192   quotthe future of local is contextual discove...         Google  \n",
       "235   Dj hoodie allen with all due respect you shoul...  missing_value  \n",
       "\n",
       "[6819 rows x 3 columns]"
      ]
     },
     "execution_count": 241,
     "metadata": {},
     "output_type": "execute_result"
    }
   ],
   "source": [
    "# Clean tweets for X_train data\n",
    "X_train['cleaned_tweet'] = X_train['tweet_text'].apply(lambda text: encode_emojis(remove_html_urls_mentions(text)))\n",
    "X_train = X_train[['tweet_text', 'cleaned_tweet', 'product_brand']].copy()\n",
    "X_train"
   ]
  },
  {
   "cell_type": "code",
   "execution_count": 245,
   "metadata": {},
   "outputs": [],
   "source": [
    "# Merge brand_column into only two categories: apple and google brands\n",
    "Apple = ['iPad', 'Apple', 'iPhone', 'iPad or iPhone App', 'ipad', 'apple', 'iphone', 'Other Apple product or service']\n",
    "Google = ['Google', 'google', 'Other Google product or service', 'Android', 'Android App', 'android']\n",
    "\n",
    "def brand_category(X):\n",
    "    for index, row in X.iterrows():\n",
    "        if row['product_brand'] in Apple:\n",
    "            X.at[index, 'product_brand'] = 'Apple'\n",
    "        elif row['product_brand'] in Google:\n",
    "            X.at[index, 'product_brand'] = 'Google'\n",
    "    \n",
    "    return X\n",
    "\n",
    "# Call function on X_train data\n",
    "X_train = brand_category(X_train)"
   ]
  },
  {
   "cell_type": "code",
   "execution_count": 246,
   "metadata": {},
   "outputs": [],
   "source": [
    "# Call function on X_test data\n",
    "X_test = brand_category(X_test)"
   ]
  },
  {
   "cell_type": "code",
   "execution_count": 247,
   "metadata": {},
   "outputs": [
    {
     "data": {
      "image/png": "[encoded data removed]",
      "text/plain": [
       "<Figure size 640x480 with 1 Axes>"
      ]
     },
     "metadata": {},
     "output_type": "display_data"
    }
   ],
   "source": [
    "# Re-check brand_product column\n",
    "X_train['product_brand'].value_counts()\n",
    "plt.bar(X_train['product_brand'].value_counts().index, X_train['product_brand'].value_counts(), width=.3)\n",
    "plt.xticks(rotation=90);"
   ]
  },
  {
   "cell_type": "code",
   "execution_count": 250,
   "metadata": {},
   "outputs": [],
   "source": [
    "from string import punctuation\n",
    "\n",
    "# Function to tokenize and remove stopwords and punctuation\n",
    "def process_tweet(tweet):\n",
    "    tweet = tweet.lower() #convert tweet to lowercase\n",
    "    # Define a regular expression pattern to match words including apostrophes\n",
    "    pattern = r\"\\b\\w+(?:'\\w+)?\\b\"\n",
    "    # Create a RegexpTokenizer with the defined pattern\n",
    "    tokenizer = RegexpTokenizer(pattern)\n",
    "    # Tokenize tweet\n",
    "    tokens = tokenizer.tokenize(tweet)\n",
    "    tokens = [token for token in tokens if token not in stopwords.words('english') \n",
    "              and token not in punctuation]                                    #remove stopwords and punctuations\n",
    "    return tokens\n",
    "\n",
    "# Apply function on X_train and X_test data\n",
    "X_train['tokenized_tweets'] = X_train['tweet_text'].apply(process_tweet)\n",
    "X_test['tokenized_tweets'] = X_test['tweet_text'].apply(process_tweet)"
   ]
  },
  {
   "cell_type": "code",
   "execution_count": 251,
   "metadata": {},
   "outputs": [
    {
     "data": {
      "text/plain": [
       "FreqDist({'sxsw': 7220, 'mention': 5315, 'link': 3242, 'rt': 2227, 'ipad': 1882, 'google': 1816, 'apple': 1710, 'quot': 1207, 'iphone': 1194, 'store': 1124, ...})"
      ]
     },
     "execution_count": 251,
     "metadata": {},
     "output_type": "execute_result"
    }
   ],
   "source": [
    "# Generate Frequency distribution\n",
    "FreqDist(X_train['tokenized_tweets'].explode())"
   ]
  },
  {
   "cell_type": "code",
   "execution_count": 252,
   "metadata": {},
   "outputs": [
    {
     "data": {
      "image/png": "[encoded data removed]",
      "text/plain": [
       "<Figure size 800x600 with 1 Axes>"
      ]
     },
     "metadata": {},
     "output_type": "display_data"
    }
   ],
   "source": [
    "# Extract top 20 tokens and their values \n",
    "top_20 = FreqDist(X_train['tokenized_tweets'].explode()).most_common(20)\n",
    "categories, values = zip(*top_20)\n",
    "\n",
    "# Create a bar plot\n",
    "plt.figure(figsize=(8, 6))\n",
    "plt.bar(categories, values)\n",
    "plt.xlabel('Categories')\n",
    "plt.ylabel('Values')\n",
    "plt.title('Bar Plot from Dictionary')\n",
    "plt.xticks(rotation=90)\n",
    "plt.show()"
   ]
  },
  {
   "cell_type": "code",
   "execution_count": 253,
   "metadata": {},
   "outputs": [
    {
     "data": {
      "image/png": "[encoded data removed]",
      "text/plain": [
       "<Figure size 2000x800 with 2 Axes>"
      ]
     },
     "metadata": {},
     "output_type": "display_data"
    }
   ],
   "source": [
    "#check distribution by brand category\n",
    "for_eda = pd.concat([X_train,y_train], axis= 1)\n",
    "apple = for_eda[for_eda['product_brand'] == 'Apple']\n",
    "google = for_eda[for_eda['product_brand'] == 'Google']\n",
    "\n",
    "# Extract top 20 tokens and their values for apple brand\n",
    "apple_top_20 = FreqDist(apple['tokenized_tweets'].explode()).most_common(20)\n",
    "apple_categories, apple_values = zip(*apple_top_20)\n",
    "\n",
    "# Extract top 20 tokens and their values for google brand\n",
    "google_top_20 = FreqDist(google['tokenized_tweets'].explode()).most_common(20)\n",
    "google_categories, google_values = zip(*google_top_20)\n",
    "\n",
    "# Create a bar plot\n",
    "fig, axes = plt.subplots(nrows=1, ncols=2, figsize=(20, 8), sharey=True) \n",
    "axes[0].bar(apple_categories, apple_values, label='Apple')\n",
    "axes[1].bar(google_categories, google_values, label='Google')\n",
    "axes[0].set_ylabel('Counts')\n",
    "fig.suptitle('Frequency Distribution by Brand')\n",
    "axes[0].set_xticks(range(len(apple_categories)))\n",
    "axes[0].set_xticklabels(apple_categories, rotation=90) \n",
    "axes[1].set_xticks(range(len(google_categories)))\n",
    "axes[1].set_xticklabels(google_categories, rotation=90)\n",
    "# Set legends on the axes\n",
    "axes[0].legend()\n",
    "axes[1].legend()\n",
    "\n",
    "plt.show()"
   ]
  },
  {
   "cell_type": "code",
   "execution_count": 255,
   "metadata": {},
   "outputs": [
    {
     "data": {
      "image/png": "[encoded data removed]",
      "text/plain": [
       "<Figure size 1000x500 with 2 Axes>"
      ]
     },
     "metadata": {},
     "output_type": "display_data"
    }
   ],
   "source": [
    "# Sentiments by brand\n",
    "fig, ax = plt.subplots(nrows=1, ncols= 2, figsize= (10, 5), sharey= True)\n",
    "ax[0].bar(apple['sentiment'].value_counts().index, apple['sentiment'].value_counts(), width= .5, label='apple');\n",
    "ax[1].bar(google['sentiment'].value_counts().index, google['sentiment'].value_counts(), width= .5, label= 'google')\n",
    "ax[0].legend()\n",
    "ax[1].legend()\n",
    "\n",
    "for axis in ax:\n",
    "    axis.tick_params(axis='x', rotation=45)\n",
    "    \n",
    "plt.show()"
   ]
  },
  {
   "cell_type": "markdown",
   "metadata": {},
   "source": [
    "**SPLITTING THE DATA SET FOR A NAIVE BAYES MODEL**\n",
    "\n",
    "This will involve splitting the new  data frame into training and testing sets for multi-class classification using the tweet_text as the input (X) and sentiment as the target (y), with 30% of the data allocated to testing and a fixed random seed (random_state=42) to ensure reproducibility"
   ]
  },
  {
   "cell_type": "code",
   "execution_count": 261,
   "metadata": {},
   "outputs": [],
   "source": [
    "# Assigning the features(tweet_text) to x variable and the target (sentiment) to y variable\n",
    "X = data['tweet_text']  # Features (tweet text)\n",
    "y = data['sentiment']    # Target (sentiment labels)\n",
    "\n",
    "# Split the data into training and testing sets (70% train, 30% test)\n",
    "X_train, X_test, y_train, y_test = train_test_split(X, y, test_size=0.3, random_state=42)"
   ]
  },
  {
   "cell_type": "markdown",
   "metadata": {},
   "source": [
    "**PIPELINE FOR NAIVE BAYES MODEL**"
   ]
  },
  {
   "cell_type": "code",
   "execution_count": 262,
   "metadata": {},
   "outputs": [],
   "source": [
    "# Create pipeline with CountVectorizer and Naive Bayes classifier\n",
    "pipeline_nb = Pipeline([\n",
    "    ('count_vectorizer', CountVectorizer(stop_words='english')),  # Vectorization step\n",
    "    ('classifier', MultinomialNB())  # Naive Bayes classifier\n",
    "])\n",
    "\n",
    "# Train the Naive Bayes model using the pipeline\n",
    "pipeline_nb.fit(X_train, y_train)\n",
    "\n",
    "# Predict on the test data\n",
    "y_pred = pipeline_nb.predict(X_test)"
   ]
  },
  {
   "cell_type": "markdown",
   "metadata": {},
   "source": [
    "**NAIVE BAYES MODEL EVALUATION**"
   ]
  },
  {
   "cell_type": "code",
   "execution_count": 263,
   "metadata": {},
   "outputs": [
    {
     "name": "stdout",
     "output_type": "stream",
     "text": [
      "Accuracy: 0.6521\n",
      "Classification Report:\n",
      "                                    precision    recall  f1-score   support\n",
      "\n",
      "                      I can't tell       0.00      0.00      0.00        43\n",
      "                  Negative emotion       0.53      0.13      0.21       173\n",
      "No emotion toward brand or product       0.69      0.81      0.75      1597\n",
      "                  Positive emotion       0.57      0.51      0.54       915\n",
      "\n",
      "                          accuracy                           0.65      2728\n",
      "                         macro avg       0.45      0.36      0.37      2728\n",
      "                      weighted avg       0.63      0.65      0.63      2728\n",
      "\n"
     ]
    },
    {
     "name": "stderr",
     "output_type": "stream",
     "text": [
      "c:\\Users\\hp\\anaconda3\\Lib\\site-packages\\sklearn\\metrics\\_classification.py:1509: UndefinedMetricWarning: Precision is ill-defined and being set to 0.0 in labels with no predicted samples. Use `zero_division` parameter to control this behavior.\n",
      "  _warn_prf(average, modifier, f\"{metric.capitalize()} is\", len(result))\n",
      "c:\\Users\\hp\\anaconda3\\Lib\\site-packages\\sklearn\\metrics\\_classification.py:1509: UndefinedMetricWarning: Precision is ill-defined and being set to 0.0 in labels with no predicted samples. Use `zero_division` parameter to control this behavior.\n",
      "  _warn_prf(average, modifier, f\"{metric.capitalize()} is\", len(result))\n",
      "c:\\Users\\hp\\anaconda3\\Lib\\site-packages\\sklearn\\metrics\\_classification.py:1509: UndefinedMetricWarning: Precision is ill-defined and being set to 0.0 in labels with no predicted samples. Use `zero_division` parameter to control this behavior.\n",
      "  _warn_prf(average, modifier, f\"{metric.capitalize()} is\", len(result))\n"
     ]
    }
   ],
   "source": [
    "# Evaluate the model's performance\n",
    "accuracy = accuracy_score(y_test, y_pred)\n",
    "print(f\"Accuracy: {accuracy:.4f}\")\n",
    "\n",
    "# Display the classification report (precision, recall, F1-score)\n",
    "print(\"Classification Report:\")\n",
    "print(classification_report(y_test, y_pred))"
   ]
  },
  {
   "cell_type": "markdown",
   "metadata": {},
   "source": [
    "**Summary of Naive Bayes Model Performance**\n",
    "\n",
    "The model performs reasonably well for neutral sentiment (Class 2) but struggles significantly with negative sentiment (Class 1), where recall is extremely low (15%). This means the model misses most negative tweets, which is critical for Apple and Google to address customer dissatisfaction.\n",
    "The model’s performance for positive sentiment (Class 3) is moderate, but it also requires improvement to better capture positive feedback.\n",
    "The poor performance on negative sentiment could result in missed opportunities to identify and address product issues, which is essential for improving customer satisfaction.\n",
    "\n",
    "\n",
    "**Metrics Summary for Each Class:**\n",
    "**Class 1 (Negative Sentiment):**\n",
    "\n",
    "**Precision:** 0.62 – 62% of predicted negative tweets are actually negative.\n",
    "\n",
    "**Recall:** 0.15 – The model only identifies 15% of actual negative tweets.\n",
    "\n",
    "**F1-Score:** 0.24 – Poor performance in identifying negative tweets.\n",
    "\n",
    "**Class 3 (Positive Sentiment):**\n",
    "\n",
    "**Precision:** 0.52 – 52% of predicted positive tweets are correct.\n",
    "\n",
    "**Recall:** 0.54 – The model correctly identifies 54% of actual positive tweets.\n",
    "\n",
    "**F1-Score:** 0.53 – Moderate performance for positive sentiment.\n",
    "\n",
    "**Class 2 (Neutral Sentiment):**\n",
    "\n",
    "**Precision:** 0.73 – 73% of predicted neutral tweets are correct.\n",
    "\n",
    "**Recall:** 0.79 – The model identifies 79% of actual neutral tweets.\n",
    "\n",
    "**F1-Score:** 0.76 – Strong performance in classifying neutral tweets.\n",
    "\n",
    "**Class 0 (\"I can't tell\" or ambiguous sentiment):**\n",
    "\n",
    "**Precision:** 0.00 – The model fails to correctly predict any tweets in this class.\n",
    "\n",
    "**Recall:** 0.00 – None of the actual ambiguous tweets are identified.\n"
   ]
  },
  {
   "cell_type": "markdown",
   "metadata": {},
   "source": [
    "**3.RANDOM FOREST CLASSIFIER**\n",
    "\n",
    "I can now initiate another pipeline that vectorizes data,  trains  ,fit and evaluates our Random Forest Model"
   ]
  },
  {
   "cell_type": "code",
   "execution_count": 264,
   "metadata": {},
   "outputs": [
    {
     "name": "stdout",
     "output_type": "stream",
     "text": [
      "Accuracy: 0.6661\n",
      "Classification Report:\n",
      "                                    precision    recall  f1-score   support\n",
      "\n",
      "                      I can't tell       0.00      0.00      0.00        43\n",
      "                  Negative emotion       0.59      0.18      0.28       173\n",
      "No emotion toward brand or product       0.67      0.88      0.76      1597\n",
      "                  Positive emotion       0.67      0.42      0.51       915\n",
      "\n",
      "                          accuracy                           0.67      2728\n",
      "                         macro avg       0.48      0.37      0.39      2728\n",
      "                      weighted avg       0.65      0.67      0.63      2728\n",
      "\n"
     ]
    }
   ],
   "source": [
    "# Create pipeline with CountVectorizer and Random Forest Classifier\n",
    "pipeline_rf = Pipeline([\n",
    "    ('count_vectorizer', CountVectorizer(stop_words='english')),\n",
    "    ('classifier', RandomForestClassifier(n_estimators=100, random_state=42))  # Random Forest\n",
    "])\n",
    "\n",
    "# Train the model\n",
    "pipeline_rf.fit(X_train, y_train)\n",
    "\n",
    "# Predict and evaluate\n",
    "y_pred = pipeline_rf.predict(X_test)\n",
    "print(f\"Accuracy: {accuracy_score(y_test, y_pred):.4f}\")\n",
    "print(\"Classification Report:\")\n",
    "print(classification_report(y_test, y_pred))"
   ]
  },
  {
   "cell_type": "markdown",
   "metadata": {},
   "source": [
    "FINDINGS"
   ]
  },
  {
   "cell_type": "markdown",
   "metadata": {},
   "source": [
    "- Based on the analysis of customer sentiment on Twitter, it was found that Google and Apple brands had the highest number of customers expressing a neutral emotion, followed by a positive emotion. Negative sentiments were least common for both brands.\n",
    "- It was observed that the SXSW event had a significant influence on customer sentiment and received the highest number of mentions. The release of new products by Apple and Google coincided with an increase in positive sentiment expressed on Twitter.\n",
    "- The sentiment analysis of tweets revealed a notable amount of negativity towards the design of the iPad device. The Apple Store stood out as a feature that garnered notable positivity among users. Apple's iPhone and iPad devices received the highest positive sentiment among consumers, reinforcing their esteemed reputation within the Apple brand lineup. Among Google products and services, Android devices and Google Maps received the most mentions. \n",
    "- Pre-resampling, Naive Bayes model showed poor performance, with a recall of only 2%. However,  Random Forest demonstrated robust performance even before resampling. The resampling method led to improvements across all metrics, further enhancing the effectiveness of the classifiers."
   ]
  },
  {
   "cell_type": "markdown",
   "metadata": {},
   "source": [
    "**RECOMMENDATIONS**"
   ]
  },
  {
   "cell_type": "markdown",
   "metadata": {},
   "source": [
    "\n",
    "\n",
    "- **Further Data Collection**: Given the limitations of dataset size and class imbalance, collecting a larger and more balanced dataset would greatly improve the model's performance and generalization. Consider incorporating more diverse data sources.\n",
    "- **Context and Sentiment Subtlety**: The model struggles with understanding implicit and subtle expressions of sentiment. Future iterations should incorporate more sophisticated context understanding, perhaps using transfer learning with pre-trained models that can capture nuanced text meaning.\n",
    "- **Real-Time Processing Capabilities**: As sentiment analysis tools are often needed in real-time applications (e.g., for social media monitoring), focus on building a scalable system that can efficiently handle large volumes of data in real time.\n",
    "\n"
   ]
  },
  {
   "cell_type": "code",
   "execution_count": null,
   "metadata": {},
   "outputs": [],
   "source": []
  }
 ],
 "metadata": {
  "kernelspec": {
   "display_name": "base",
   "language": "python",
   "name": "python3"
  },
  "language_info": {
   "codemirror_mode": {
    "name": "ipython",
    "version": 3
   },
   "file_extension": ".py",
   "mimetype": "text/x-python",
   "name": "python",
   "nbconvert_exporter": "python",
   "pygments_lexer": "ipython3",
   "version": "3.12.4"
  }
 },
 "nbformat": 4,
 "nbformat_minor": 2
}
